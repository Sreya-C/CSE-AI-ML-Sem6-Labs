{
 "cells": [
  {
   "cell_type": "markdown",
   "metadata": {
    "id": "-9vIvMPR9384"
   },
   "source": [
    "Implement L2 regularization on cat-dog classification neural network. Train the model on the dataset, and observe the impact of the regularization on the weight parameters. (Do not use data augmentation)."
   ]
  },
  {
   "cell_type": "markdown",
   "metadata": {
    "id": "jIDaMCZX_mRT"
   },
   "source": [
    "a. L2 regularization using optimizer’s weight decay"
   ]
  },
  {
   "cell_type": "code",
   "execution_count": 1,
   "metadata": {
    "id": "3C1Iw4m_9w2P"
   },
   "outputs": [],
   "source": [
    "import warnings\n",
    "\n",
    "warnings.filterwarnings(\"ignore\")"
   ]
  },
  {
   "cell_type": "code",
   "execution_count": 2,
   "metadata": {
    "id": "IvhCkIhp-Fhv"
   },
   "outputs": [],
   "source": [
    "import PIL.Image as Image\n",
    "import pandas as pd\n",
    "import glob\n",
    "import torch\n",
    "import torch.nn as nn\n",
    "import torch.optim as optim\n",
    "from torch.utils.data import Dataset, DataLoader\n",
    "from torchvision.models import AlexNet_Weights\n",
    "from torchvision import transforms as T"
   ]
  },
  {
   "cell_type": "code",
   "execution_count": 3,
   "metadata": {
    "id": "N7JL13Oy-L2o"
   },
   "outputs": [],
   "source": [
    "EPOCHS = 10\n",
    "BATCH_SIZE_TRAIN = 16\n",
    "BATCH_SIZE_TEST = 100\n",
    "LR = 0.001\n",
    "WEIGHT_DECAY = 0.001\n",
    "LOG_INTERVAL = 10\n",
    "DEVICE = torch.device(\"cuda\" if torch.cuda.is_available() else \"cpu\")\n",
    "TRANSFORM = T.Compose([\n",
    "    T.ToTensor(),\n",
    "    T.Resize([224, 224]),\n",
    "    T.Normalize([0.485, 0.456, 0.406], [0.229, 0.224, 0.225])\n",
    "])\n",
    "CLASSES = {'dogs': 0, 'cats': 1}"
   ]
  },
  {
   "cell_type": "code",
   "execution_count": 4,
   "metadata": {
    "id": "aC9t1D3S-W2g"
   },
   "outputs": [],
   "source": [
    "def get_df(path, classes=['dogs', 'cats']):\n",
    "    paths = pd.DataFrame({'class': [], 'path': []})\n",
    "    for c in classes:\n",
    "        df = pd.DataFrame({\n",
    "            'class': c,\n",
    "            'path': glob.glob(path + c + '/*')\n",
    "        })\n",
    "\n",
    "        paths = pd.concat([paths, df])\n",
    "\n",
    "    paths.reset_index(inplace=False)\n",
    "\n",
    "    return paths\n",
    "\n",
    "\n",
    "class CatDogDataset(Dataset):\n",
    "    def __init__(self, df, classes, transform=None):\n",
    "        self.paths = df\n",
    "        self.classes = classes\n",
    "        self.transform = transform\n",
    "\n",
    "    def __len__(self):\n",
    "        return len(self.paths)\n",
    "\n",
    "    def __getitem__(self, idx):\n",
    "        row = self.paths.iloc[idx]\n",
    "        img = Image.open(row['path'])\n",
    "        if self.transform is not None:\n",
    "            return self.transform(img), self.classes[row['class']]\n",
    "        else:\n",
    "            return img, self.classes[row['class']]\n",
    "\n",
    "\n",
    "def get_model():\n",
    "    model = torch.hub.load('pytorch/vision:v0.10.0', 'alexnet', weights=AlexNet_Weights.DEFAULT)\n",
    "    model.features.requires_grad = False\n",
    "    model.classifier = nn.Sequential(\n",
    "        *model.classifier[:-1],\n",
    "        nn.Linear(4096, 2, bias=True)\n",
    "    )\n",
    "    return model"
   ]
  },
  {
   "cell_type": "code",
   "execution_count": 5,
   "metadata": {
    "id": "mBbukQSr-W5V"
   },
   "outputs": [],
   "source": [
    "def train(model, train_loader, criterion, optimizer, device=\"cpu\"):\n",
    "    model.train()\n",
    "    running_loss = 0.0\n",
    "    correct = 0\n",
    "    for batch_idx, (data, target) in enumerate(train_loader):\n",
    "        data, target = data.to(device), target.to(device)\n",
    "        optimizer.zero_grad()\n",
    "        output = model(data)\n",
    "        loss = criterion(output, target)\n",
    "        loss.backward()\n",
    "        optimizer.step()\n",
    "        running_loss += loss.item() * len(data)\n",
    "        pred = output.data.max(1, keepdim=True)[1]\n",
    "        correct += pred.eq(target.data.view_as(pred)).sum()\n",
    "    running_loss /= len(train_loader.dataset)\n",
    "    acc = 100. * correct / len(train_loader.dataset)\n",
    "    return acc, running_loss\n",
    "\n",
    "def test(model, test_loader, criterion, device=\"cpu\"):\n",
    "    model.eval()\n",
    "    running_loss = 0.0\n",
    "    correct = 0\n",
    "    with torch.no_grad():\n",
    "        for data, target in test_loader:\n",
    "            data, target = data.to(device), target.to(device)\n",
    "            output = model(data)\n",
    "            running_loss += criterion(output, target).item() * len(data)\n",
    "            pred = output.data.max(1, keepdim=True)[1]\n",
    "            correct += pred.eq(target.data.view_as(pred)).sum()\n",
    "    running_loss /= len(test_loader.dataset)\n",
    "    acc = 100. * correct / len(test_loader.dataset)\n",
    "    return acc, running_loss"
   ]
  },
  {
   "cell_type": "code",
   "execution_count": 6,
   "metadata": {
    "id": "NeOlaTi5-TzH"
   },
   "outputs": [],
   "source": [
    "train_dataset = CatDogDataset(get_df('./data/cats_and_dogs_filtered/train/'), CLASSES, TRANSFORM)\n",
    "test_dataset = CatDogDataset(get_df('./data/cats_and_dogs_filtered/validation/'), CLASSES, TRANSFORM)\n",
    "\n",
    "train_loader = DataLoader(train_dataset, batch_size=BATCH_SIZE_TRAIN, shuffle=True)\n",
    "test_loader = DataLoader(test_dataset, batch_size=BATCH_SIZE_TEST, shuffle=True)"
   ]
  },
  {
   "cell_type": "code",
   "execution_count": 7,
   "metadata": {
    "colab": {
     "base_uri": "https://localhost:8080/"
    },
    "id": "GqmI8KZC-qgf",
    "outputId": "13e56d71-b8ed-465a-b2cf-02cf70ae0adc"
   },
   "outputs": [
    {
     "name": "stderr",
     "output_type": "stream",
     "text": [
      "Using cache found in /home/vi-b-04/.cache/torch/hub/pytorch_vision_v0.10.0\n"
     ]
    }
   ],
   "source": [
    "modela = get_model()\n",
    "\n",
    "modela = modela.to(DEVICE)"
   ]
  },
  {
   "cell_type": "code",
   "execution_count": 8,
   "metadata": {
    "colab": {
     "base_uri": "https://localhost:8080/"
    },
    "id": "pbZqBpHH-sVv",
    "outputId": "47aab50e-0976-4fc8-872a-0cb7797c0c63"
   },
   "outputs": [
    {
     "name": "stdout",
     "output_type": "stream",
     "text": [
      "AlexNet(\n",
      "  (features): Sequential(\n",
      "    (0): Conv2d(3, 64, kernel_size=(11, 11), stride=(4, 4), padding=(2, 2))\n",
      "    (1): ReLU(inplace=True)\n",
      "    (2): MaxPool2d(kernel_size=3, stride=2, padding=0, dilation=1, ceil_mode=False)\n",
      "    (3): Conv2d(64, 192, kernel_size=(5, 5), stride=(1, 1), padding=(2, 2))\n",
      "    (4): ReLU(inplace=True)\n",
      "    (5): MaxPool2d(kernel_size=3, stride=2, padding=0, dilation=1, ceil_mode=False)\n",
      "    (6): Conv2d(192, 384, kernel_size=(3, 3), stride=(1, 1), padding=(1, 1))\n",
      "    (7): ReLU(inplace=True)\n",
      "    (8): Conv2d(384, 256, kernel_size=(3, 3), stride=(1, 1), padding=(1, 1))\n",
      "    (9): ReLU(inplace=True)\n",
      "    (10): Conv2d(256, 256, kernel_size=(3, 3), stride=(1, 1), padding=(1, 1))\n",
      "    (11): ReLU(inplace=True)\n",
      "    (12): MaxPool2d(kernel_size=3, stride=2, padding=0, dilation=1, ceil_mode=False)\n",
      "  )\n",
      "  (avgpool): AdaptiveAvgPool2d(output_size=(6, 6))\n",
      "  (classifier): Sequential(\n",
      "    (0): Dropout(p=0.5, inplace=False)\n",
      "    (1): Linear(in_features=9216, out_features=4096, bias=True)\n",
      "    (2): ReLU(inplace=True)\n",
      "    (3): Dropout(p=0.5, inplace=False)\n",
      "    (4): Linear(in_features=4096, out_features=4096, bias=True)\n",
      "    (5): ReLU(inplace=True)\n",
      "    (6): Linear(in_features=4096, out_features=2, bias=True)\n",
      "  )\n",
      ")\n"
     ]
    }
   ],
   "source": [
    "print(modela)"
   ]
  },
  {
   "cell_type": "code",
   "execution_count": 9,
   "metadata": {
    "id": "ZaZQU6sg-ugf"
   },
   "outputs": [],
   "source": [
    "criterion = nn.CrossEntropyLoss()\n",
    "optimizera = optim.SGD(modela.parameters(), lr=LR, weight_decay=WEIGHT_DECAY)"
   ]
  },
  {
   "cell_type": "code",
   "execution_count": 10,
   "metadata": {
    "colab": {
     "base_uri": "https://localhost:8080/"
    },
    "id": "EG3sj06E-v-u",
    "outputId": "3248f6c8-3f63-40f0-965e-f85f1938a198"
   },
   "outputs": [
    {
     "name": "stdout",
     "output_type": "stream",
     "text": [
      "Epoch: 1\n",
      "\tTraining: \n",
      "\t\tAccuracy: 90.05%\n",
      "\t\tLoss: 0.223\n",
      "\tValidation: \n",
      "\t\tAccuracy: 96.7%\n",
      "\t\tLoss: 0.1052\n",
      "Epoch: 2\n",
      "\tTraining: \n",
      "\t\tAccuracy: 95.75%\n",
      "\t\tLoss: 0.1159\n",
      "\tValidation: \n",
      "\t\tAccuracy: 96.2%\n",
      "\t\tLoss: 0.09391\n",
      "Epoch: 3\n",
      "\tTraining: \n",
      "\t\tAccuracy: 96.85%\n",
      "\t\tLoss: 0.084\n",
      "\tValidation: \n",
      "\t\tAccuracy: 96.2%\n",
      "\t\tLoss: 0.08176\n",
      "Epoch: 4\n",
      "\tTraining: \n",
      "\t\tAccuracy: 97.4%\n",
      "\t\tLoss: 0.07191\n",
      "\tValidation: \n",
      "\t\tAccuracy: 96.7%\n",
      "\t\tLoss: 0.07449\n",
      "Epoch: 5\n",
      "\tTraining: \n",
      "\t\tAccuracy: 97.3%\n",
      "\t\tLoss: 0.05976\n",
      "\tValidation: \n",
      "\t\tAccuracy: 96.9%\n",
      "\t\tLoss: 0.07008\n",
      "Epoch: 6\n",
      "\tTraining: \n",
      "\t\tAccuracy: 98.55%\n",
      "\t\tLoss: 0.04728\n",
      "\tValidation: \n",
      "\t\tAccuracy: 96.4%\n",
      "\t\tLoss: 0.07575\n",
      "Epoch: 7\n",
      "\tTraining: \n",
      "\t\tAccuracy: 98.6%\n",
      "\t\tLoss: 0.04313\n",
      "\tValidation: \n",
      "\t\tAccuracy: 96.9%\n",
      "\t\tLoss: 0.0724\n",
      "Epoch: 8\n",
      "\tTraining: \n",
      "\t\tAccuracy: 99.1%\n",
      "\t\tLoss: 0.03453\n",
      "\tValidation: \n",
      "\t\tAccuracy: 96.1%\n",
      "\t\tLoss: 0.07368\n",
      "Epoch: 9\n",
      "\tTraining: \n",
      "\t\tAccuracy: 98.95%\n",
      "\t\tLoss: 0.03342\n",
      "\tValidation: \n",
      "\t\tAccuracy: 96.6%\n",
      "\t\tLoss: 0.07305\n",
      "Epoch: 10\n",
      "\tTraining: \n",
      "\t\tAccuracy: 99.1%\n",
      "\t\tLoss: 0.0267\n",
      "\tValidation: \n",
      "\t\tAccuracy: 97.0%\n",
      "\t\tLoss: 0.07744\n"
     ]
    }
   ],
   "source": [
    "for epoch in range(1, EPOCHS + 1):\n",
    "    print(f\"Epoch: {epoch}\")\n",
    "\n",
    "    print(\"\\tTraining: \")\n",
    "    train_acc, train_loss = train(modela, train_loader, criterion, optimizera, DEVICE)\n",
    "    print(\"\\t\\tAccuracy: {:.4}%\".format(train_acc))\n",
    "    print(\"\\t\\tLoss: {:.4}\".format(train_loss))\n",
    "\n",
    "    print(\"\\tValidation: \")\n",
    "    test_acc, test_loss = test(modela, test_loader, criterion, DEVICE)\n",
    "    print(\"\\t\\tAccuracy: {:.4}%\".format(test_acc))\n",
    "    print(\"\\t\\tLoss: {:.4}\".format(test_loss))"
   ]
  },
  {
   "cell_type": "markdown",
   "metadata": {
    "id": "ZV5gEq-O_o5B"
   },
   "source": [
    "b. L2 regularization using loop to find L2 norm of weights"
   ]
  },
  {
   "cell_type": "code",
   "execution_count": 11,
   "metadata": {
    "id": "1d-8-tgyALZg"
   },
   "outputs": [],
   "source": [
    "REGULARIZATION = 2"
   ]
  },
  {
   "cell_type": "code",
   "execution_count": 12,
   "metadata": {
    "id": "goDIUlDD_int"
   },
   "outputs": [],
   "source": [
    "def train_with_regularization(model, train_loader, criterion, optimizer, regularization=2, lambda_val=0.001, device=\"cpu\"):\n",
    "    model.train()\n",
    "    running_loss = 0.0\n",
    "    correct = 0\n",
    "    for batch_idx, (data, target) in enumerate(train_loader):\n",
    "        data, target = data.to(device), target.to(device)\n",
    "        optimizer.zero_grad()\n",
    "        output = model(data)\n",
    "        loss = criterion(output, target)\n",
    "        running_loss += loss.item() * len(data)\n",
    "        norm = sum(torch.norm(p, regularization) for p in model.parameters())\n",
    "        loss = loss + lambda_val * norm\n",
    "        loss.backward()\n",
    "        optimizer.step()\n",
    "        pred = output.data.max(1, keepdim=True)[1]\n",
    "        correct += pred.eq(target.data.view_as(pred)).sum()\n",
    "    running_loss /= len(train_loader.dataset)\n",
    "    acc = 100. * correct / len(train_loader.dataset)\n",
    "    return acc, running_loss"
   ]
  },
  {
   "cell_type": "code",
   "execution_count": 13,
   "metadata": {
    "colab": {
     "base_uri": "https://localhost:8080/"
    },
    "id": "ay94Mm3O_iqU",
    "outputId": "74081efd-6697-45ad-a261-6d402ddf5074"
   },
   "outputs": [
    {
     "name": "stderr",
     "output_type": "stream",
     "text": [
      "Using cache found in /home/vi-b-04/.cache/torch/hub/pytorch_vision_v0.10.0\n"
     ]
    }
   ],
   "source": [
    "modelb = get_model()\n",
    "\n",
    "modelb = modelb.to(DEVICE)"
   ]
  },
  {
   "cell_type": "code",
   "execution_count": 14,
   "metadata": {
    "colab": {
     "base_uri": "https://localhost:8080/"
    },
    "id": "1bTo3fLn_ist",
    "outputId": "dd977ca5-bc0e-494e-8a84-7b4e06e97ba4"
   },
   "outputs": [
    {
     "name": "stdout",
     "output_type": "stream",
     "text": [
      "AlexNet(\n",
      "  (features): Sequential(\n",
      "    (0): Conv2d(3, 64, kernel_size=(11, 11), stride=(4, 4), padding=(2, 2))\n",
      "    (1): ReLU(inplace=True)\n",
      "    (2): MaxPool2d(kernel_size=3, stride=2, padding=0, dilation=1, ceil_mode=False)\n",
      "    (3): Conv2d(64, 192, kernel_size=(5, 5), stride=(1, 1), padding=(2, 2))\n",
      "    (4): ReLU(inplace=True)\n",
      "    (5): MaxPool2d(kernel_size=3, stride=2, padding=0, dilation=1, ceil_mode=False)\n",
      "    (6): Conv2d(192, 384, kernel_size=(3, 3), stride=(1, 1), padding=(1, 1))\n",
      "    (7): ReLU(inplace=True)\n",
      "    (8): Conv2d(384, 256, kernel_size=(3, 3), stride=(1, 1), padding=(1, 1))\n",
      "    (9): ReLU(inplace=True)\n",
      "    (10): Conv2d(256, 256, kernel_size=(3, 3), stride=(1, 1), padding=(1, 1))\n",
      "    (11): ReLU(inplace=True)\n",
      "    (12): MaxPool2d(kernel_size=3, stride=2, padding=0, dilation=1, ceil_mode=False)\n",
      "  )\n",
      "  (avgpool): AdaptiveAvgPool2d(output_size=(6, 6))\n",
      "  (classifier): Sequential(\n",
      "    (0): Dropout(p=0.5, inplace=False)\n",
      "    (1): Linear(in_features=9216, out_features=4096, bias=True)\n",
      "    (2): ReLU(inplace=True)\n",
      "    (3): Dropout(p=0.5, inplace=False)\n",
      "    (4): Linear(in_features=4096, out_features=4096, bias=True)\n",
      "    (5): ReLU(inplace=True)\n",
      "    (6): Linear(in_features=4096, out_features=2, bias=True)\n",
      "  )\n",
      ")\n"
     ]
    }
   ],
   "source": [
    "print(modelb)"
   ]
  },
  {
   "cell_type": "code",
   "execution_count": 15,
   "metadata": {
    "id": "HEy3_ucw_ivR"
   },
   "outputs": [],
   "source": [
    "optimizerb = optim.SGD(modelb.parameters(), lr=LR)"
   ]
  },
  {
   "cell_type": "code",
   "execution_count": 16,
   "metadata": {
    "colab": {
     "base_uri": "https://localhost:8080/"
    },
    "id": "UYsUETOq_ixm",
    "outputId": "0a31b841-f0ef-4ffd-8dea-69ea01da3b5c"
   },
   "outputs": [
    {
     "name": "stdout",
     "output_type": "stream",
     "text": [
      "Epoch: 1\n",
      "\tTraining: \n",
      "\t\tAccuracy: 92.05%\n",
      "\t\tLoss: 0.2129\n",
      "\tValidation: \n",
      "\t\tAccuracy: 95.1%\n",
      "\t\tLoss: 0.121\n",
      "Epoch: 2\n",
      "\tTraining: \n",
      "\t\tAccuracy: 95.95%\n",
      "\t\tLoss: 0.1086\n",
      "\tValidation: \n",
      "\t\tAccuracy: 96.1%\n",
      "\t\tLoss: 0.09705\n",
      "Epoch: 3\n",
      "\tTraining: \n",
      "\t\tAccuracy: 96.2%\n",
      "\t\tLoss: 0.09658\n",
      "\tValidation: \n",
      "\t\tAccuracy: 96.1%\n",
      "\t\tLoss: 0.09116\n",
      "Epoch: 4\n",
      "\tTraining: \n",
      "\t\tAccuracy: 97.35%\n",
      "\t\tLoss: 0.0726\n",
      "\tValidation: \n",
      "\t\tAccuracy: 96.3%\n",
      "\t\tLoss: 0.08959\n",
      "Epoch: 5\n",
      "\tTraining: \n",
      "\t\tAccuracy: 98.4%\n",
      "\t\tLoss: 0.0547\n",
      "\tValidation: \n",
      "\t\tAccuracy: 96.2%\n",
      "\t\tLoss: 0.08438\n",
      "Epoch: 6\n",
      "\tTraining: \n",
      "\t\tAccuracy: 98.15%\n",
      "\t\tLoss: 0.04709\n",
      "\tValidation: \n",
      "\t\tAccuracy: 96.3%\n",
      "\t\tLoss: 0.08942\n",
      "Epoch: 7\n",
      "\tTraining: \n",
      "\t\tAccuracy: 98.85%\n",
      "\t\tLoss: 0.03677\n",
      "\tValidation: \n",
      "\t\tAccuracy: 96.4%\n",
      "\t\tLoss: 0.08241\n",
      "Epoch: 8\n",
      "\tTraining: \n",
      "\t\tAccuracy: 99.1%\n",
      "\t\tLoss: 0.03135\n",
      "\tValidation: \n",
      "\t\tAccuracy: 96.6%\n",
      "\t\tLoss: 0.08384\n",
      "Epoch: 9\n",
      "\tTraining: \n",
      "\t\tAccuracy: 99.35%\n",
      "\t\tLoss: 0.02712\n",
      "\tValidation: \n",
      "\t\tAccuracy: 96.5%\n",
      "\t\tLoss: 0.08213\n",
      "Epoch: 10\n",
      "\tTraining: \n",
      "\t\tAccuracy: 99.45%\n",
      "\t\tLoss: 0.02413\n",
      "\tValidation: \n",
      "\t\tAccuracy: 96.6%\n",
      "\t\tLoss: 0.08867\n"
     ]
    }
   ],
   "source": [
    "for epoch in range(1, EPOCHS + 1):\n",
    "    print(f\"Epoch: {epoch}\")\n",
    "\n",
    "    print(\"\\tTraining: \")\n",
    "    train_acc, train_loss = train_with_regularization(modelb, train_loader, criterion, optimizerb, REGULARIZATION, WEIGHT_DECAY, DEVICE)\n",
    "    print(\"\\t\\tAccuracy: {:.4}%\".format(train_acc))\n",
    "    print(\"\\t\\tLoss: {:.4}\".format(train_loss))\n",
    "\n",
    "    print(\"\\tValidation: \")\n",
    "    test_acc, test_loss = test(modelb, test_loader, criterion, DEVICE)\n",
    "    print(\"\\t\\tAccuracy: {:.4}%\".format(test_acc))\n",
    "    print(\"\\t\\tLoss: {:.4}\".format(test_loss))"
   ]
  },
  {
   "cell_type": "code",
   "execution_count": null,
   "metadata": {
    "id": "kOlcVe5B_iz9"
   },
   "outputs": [],
   "source": []
  }
 ],
 "metadata": {
  "accelerator": "GPU",
  "colab": {
   "gpuType": "T4",
   "provenance": []
  },
  "kernelspec": {
   "display_name": "Python 3 (ipykernel)",
   "language": "python",
   "name": "python3"
  },
  "language_info": {
   "codemirror_mode": {
    "name": "ipython",
    "version": 3
   },
   "file_extension": ".py",
   "mimetype": "text/x-python",
   "name": "python",
   "nbconvert_exporter": "python",
   "pygments_lexer": "ipython3",
   "version": "3.11.7"
  }
 },
 "nbformat": 4,
 "nbformat_minor": 4
}
