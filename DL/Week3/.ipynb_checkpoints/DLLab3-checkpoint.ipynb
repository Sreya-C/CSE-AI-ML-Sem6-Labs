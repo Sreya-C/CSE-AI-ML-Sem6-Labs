{
 "cells": [
  {
   "cell_type": "markdown",
   "id": "0b20dee0-bb14-4c0b-a8cb-e6121ceb2efe",
   "metadata": {},
   "source": [
    "## Q1"
   ]
  },
  {
   "cell_type": "code",
   "execution_count": 12,
   "id": "704b6fd7-6b15-48b8-aade-7b5c8463eb90",
   "metadata": {},
   "outputs": [
    {
     "data": {
      "text/plain": [
       "[<matplotlib.lines.Line2D at 0x22168071640>]"
      ]
     },
     "execution_count": 12,
     "metadata": {},
     "output_type": "execute_result"
    },
    {
     "data": {
      "image/png": "[encoded data removed]",
      "text/plain": [
       "<Figure size 640x480 with 1 Axes>"
      ]
     },
     "metadata": {},
     "output_type": "display_data"
    }
   ],
   "source": [
    "import torch\n",
    "import numpy as np\n",
    "from torch.autograd import grad\n",
    "import matplotlib.pyplot as plt\n",
    "\n",
    "x = torch.tensor([12.4,14.3,14.5,14.9,16.1,16.9,16.5,15.4,17.0,17.9,18.8,20.3,22.4,19.4,15.5,16.7,17.3,18.4,19.2,17.4,19.5,19.7,21.2])\n",
    "y = torch.tensor([11.2,12.5,12.7,13.1,14.1,14.8,14.4,13.4,14.9,15.6,16.4,17.7,19.6,16.9,14.0,14.6,15.1,16.1,16.8,15.2,17.0,17.2,18.6])\n",
    "b = torch.rand([1],requires_grad = True)\n",
    "w = torch.rand([1],requires_grad = True)\n",
    "learning_rate = torch.tensor(0.001)\n",
    "loss_list = []\n",
    "\n",
    "for epochs in range(100):\n",
    "    loss = 0.0\n",
    "    for j in range(len(x)):\n",
    "        a = w*x[j]\n",
    "        y_p = a + b\n",
    "        loss += (y[j] - y_p)**2\n",
    "    loss = loss/len(x)\n",
    "    loss_list.append(loss.item())\n",
    "\n",
    "    loss.backward()\n",
    "\n",
    "    with torch.no_grad():\n",
    "        w -= learning_rate*w.grad\n",
    "        b -= learning_rate*b.grad\n",
    "\n",
    "    w.grad.zero_()\n",
    "    b.grad.zero_()\n",
    "\n",
    "plt.plot(loss_list)"
   ]
  },
  {
   "cell_type": "markdown",
   "id": "c98a3148-ac91-47e1-8021-04c4236e0232",
   "metadata": {},
   "source": [
    "## Q2"
   ]
  },
  {
   "cell_type": "code",
   "execution_count": 44,
   "id": "eb7ae38b-678c-4a58-91d7-8782d264b840",
   "metadata": {},
   "outputs": [
    {
     "name": "stdout",
     "output_type": "stream",
     "text": [
      "tensor(-174.) tensor(-52.)\n",
      "w = 1.1740000247955322,b = 1.0520000457763672,loss = 757.0\n",
      "tensor(-170.2080) tensor(-50.8520)\n",
      "w = 1.344208002090454,b = 1.1028521060943604,loss = 724.3797607421875\n",
      "Analytical Solution\n",
      "w = 0.79,b = 0.9299999999999999,loss = 26.0\n",
      "w = 0.57454,b = 0.8581799999999999,loss = 39.7\n"
     ]
    }
   ],
   "source": [
    "import torch\n",
    "import numpy as np\n",
    "from torch.autograd import grad\n",
    "import matplotlib.pyplot as plt\n",
    "\n",
    "inp_x = np.array([2,4])\n",
    "inp_y = np.array([20,40])\n",
    "\n",
    "x = torch.tensor(inp_x)\n",
    "y = torch.tensor(inp_y)\n",
    "b = torch.tensor(1.,requires_grad = True)\n",
    "w = torch.tensor(1.,requires_grad = True)\n",
    "learning_rate = torch.tensor(0.001)\n",
    "loss_list = []\n",
    "\n",
    "for epochs in range(2):\n",
    "    loss = 0.0\n",
    "    for j in range(len(x)):\n",
    "        a = w*x[j]\n",
    "        y_p = a + b\n",
    "        loss += (y[j] - y_p)**2\n",
    "    loss = loss/len(x)\n",
    "    loss_list.append(loss.item())\n",
    "    loss.backward()\n",
    "    \n",
    "    with torch.no_grad():\n",
    "        w -= learning_rate*w.grad\n",
    "        b -= learning_rate*b.grad\n",
    "    \n",
    "    print(w.grad,b.grad)\n",
    "    w.grad.zero_()\n",
    "    b.grad.zero_()\n",
    "    print(\"w = {},b = {},loss = {}\".format(w,b,loss))\n",
    "\n",
    "def analytical(x,y,w,b):  \n",
    "    loss = 0.0\n",
    "    for epochs in range(2):\n",
    "        for j in range(len(x)):\n",
    "            y_p = w*x[j] + b\n",
    "            loss += (y[j] - y_p)\n",
    "        loss = loss/len(x)\n",
    "        wgrad,bgrad = 0,0\n",
    "        for i in range(len(x)):\n",
    "            wgrad += (y[j]-y_p)*(x[i])\n",
    "            bgrad += (y[j]-y_p)\n",
    "        w -= 0.001*wgrad*2/len(x)\n",
    "        b -= 0.001*bgrad*2/len(x)\n",
    "        print(\"w = {},b = {},loss = {}\".format(w,b,loss))\n",
    "\n",
    "print(\"Analytical Solution\")\n",
    "analytical(inp_x,inp_y,1,1)"
   ]
  },
  {
   "cell_type": "markdown",
   "id": "b21cb4cb-50de-4eca-b725-9044579a8017",
   "metadata": {},
   "source": [
    "## Q3"
   ]
  },
  {
   "cell_type": "code",
   "execution_count": 47,
   "id": "6bb898c8-a129-4493-803a-618e05e7c2be",
   "metadata": {},
   "outputs": [
    {
     "name": "stdout",
     "output_type": "stream",
     "text": [
      "After 0 epochs, The parameters are w=tensor([5.1227], requires_grad=True),b=tensor([0.9811], requires_grad=True), and loss =25806.20703125\n",
      "After 99 epochs, The parameters are w=tensor([12.8709], requires_grad=True),b=tensor([1.8562], requires_grad=True), and loss =482.29107666015625\n"
     ]
    },
    {
     "data": {
      "text/plain": [
       "[<matplotlib.lines.Line2D at 0x221694968e0>]"
      ]
     },
     "execution_count": 47,
     "metadata": {},
     "output_type": "execute_result"
    },
    {
     "data": {
      "image/png": "[encoded data removed]",
      "text/plain": [
       "<Figure size 640x480 with 1 Axes>"
      ]
     },
     "metadata": {},
     "output_type": "display_data"
    }
   ],
   "source": [
    "x = torch.tensor([5.0,7.0,12.0,16.0,20.0])\n",
    "y = torch.tensor([40.0,120.0,180.0,210.0,240.0])\n",
    "learning_rate = torch.tensor(0.001)\n",
    "\n",
    "class RegressionModel:\n",
    "    def __init__(self):\n",
    "        self.w = torch.rand([1],requires_grad = True)\n",
    "        self.b = torch.rand([1],requires_grad = True)\n",
    "    def forward(self,x):\n",
    "        return self.w*x + self.b\n",
    "    def update(self):\n",
    "        self.w -= learning_rate*self.w.grad\n",
    "        self.b -= learning_rate*self.b.grad\n",
    "    def reset_grad(self):\n",
    "        self.w.grad.zero_()\n",
    "        self.b.grad.zero_()\n",
    "\n",
    "def criterion(yj,y_p):\n",
    "    return (yj - y_p)**2\n",
    "\n",
    "model = RegressionModel()\n",
    "loss_list = []\n",
    "\n",
    "for epochs in range(100):\n",
    "    loss = 0.0\n",
    "    for j in range(len(x)):\n",
    "        y_p = model.forward(x[j])\n",
    "        loss += criterion(y[j],y_p)\n",
    "    loss = loss/len(x)\n",
    "    loss_list.append(loss.item())\n",
    "\n",
    "    loss.backward()\n",
    "\n",
    "    with torch.no_grad():\n",
    "        model.update()\n",
    "    model.reset_grad()\n",
    "    if epochs%99==0:\n",
    "        print(\"After {} epochs, The parameters are w={},b={}, and loss ={}\".format(epochs, model.w,model.b,loss.item()))\n",
    "\n",
    "plt.plot(loss_list)"
   ]
  },
  {
   "cell_type": "markdown",
   "id": "15886bfb-0cd1-42f6-801b-7cfd4d4eb574",
   "metadata": {},
   "source": [
    "## Q4"
   ]
  },
  {
   "cell_type": "code",
   "execution_count": 63,
   "id": "6a4208e5-cb7b-4063-ac17-6023d19a6df6",
   "metadata": {
    "scrolled": false
   },
   "outputs": [
    {
     "name": "stdout",
     "output_type": "stream",
     "text": [
      "The parameters are w=Parameter containing:\n",
      "tensor([12.3439], requires_grad=True),b=Parameter containing:\n",
      "tensor([1.2764], requires_grad=True), and loss =394.46136474609375\n",
      "The parameters are w=Parameter containing:\n",
      "tensor([14.8881], requires_grad=True),b=Parameter containing:\n",
      "tensor([4.2813], requires_grad=True), and loss =626.27734375\n",
      "tensor(1252.5547, grad_fn=<MulBackward0>)\n"
     ]
    },
    {
     "data": {
      "text/plain": [
       "[<matplotlib.lines.Line2D at 0x2216aa900d0>]"
      ]
     },
     "execution_count": 63,
     "metadata": {},
     "output_type": "execute_result"
    },
    {
     "data": {
      "image/png": "[encoded data removed]",
      "text/plain": [
       "<Figure size 640x480 with 1 Axes>"
      ]
     },
     "metadata": {},
     "output_type": "display_data"
    }
   ],
   "source": [
    "import torch\n",
    "from torch.utils.data import Dataset,DataLoader\n",
    "\n",
    "class MyDataset(Dataset):\n",
    "    def __init__(self,X,Y):\n",
    "        self.X = X\n",
    "        self.Y = Y\n",
    "    def __len__(self):\n",
    "        return len(self.X)\n",
    "    def __getitem__(self,idx):\n",
    "        return self.X[idx],self.Y[idx]\n",
    "\n",
    "x = torch.tensor([5.0,7.0,12.0,16.0,20.0])\n",
    "y = torch.tensor([40.0,120.0,180.0,210.0,240.0])\n",
    "dataset = MyDataset(x,y)\n",
    "data_loader = DataLoader(dataset,batch_size=4,shuffle=True)\n",
    "    \n",
    "learning_rate = torch.tensor(0.001)\n",
    "\n",
    "class RegressionModel(torch.nn.Module):\n",
    "    def __init__(self):\n",
    "        super().__init__()\n",
    "        self.w = torch.nn.Parameter(torch.rand([1],requires_grad = True))\n",
    "        self.b = torch.nn.Parameter(torch.rand([1],requires_grad = True))\n",
    "    def forward(self,x):\n",
    "        return self.w*x + self.b\n",
    "\n",
    "loss_fn = torch.nn.MSELoss()\n",
    "model = RegressionModel()\n",
    "optimizer = torch.optim.SGD(model.parameters(),lr = 0.0035)\n",
    "\n",
    "for epochs in range(100):\n",
    "    loss = 0.0\n",
    "    for i,data in enumerate(data_loader):\n",
    "        inputs,labels = data\n",
    "        optimizer.zero_grad()\n",
    "        outputs = model(inputs)\n",
    "        loss = loss_fn(outputs,labels)\n",
    "        loss.backward()\n",
    "        optimizer.step()\n",
    "    loss += loss.item()\n",
    "\n",
    "    if epochs%99==0:\n",
    "        print(\"The parameters are w={},b={}, and loss ={}\".format(model.w,model.b,loss.item()))\n",
    "\n",
    "    finalloss = loss/len(data_loader)*4\n",
    "\n",
    "print(finalloss)\n",
    "\n",
    "plt.plot(loss_list)"
   ]
  },
  {
   "cell_type": "markdown",
   "id": "92b998de-5909-4627-919f-51f61d1c04a7",
   "metadata": {},
   "source": [
    "## Q5"
   ]
  },
  {
   "cell_type": "code",
   "execution_count": 89,
   "id": "0e4b2b7f-ebe8-406f-8e0c-7907008db186",
   "metadata": {},
   "outputs": [
    {
     "name": "stdout",
     "output_type": "stream",
     "text": [
      "After 0 epochs, loss =369.8228454589844\n",
      "After 10 epochs, loss =291.4658203125\n",
      "After 20 epochs, loss =229.71092224121094\n",
      "After 30 epochs, loss =181.04037475585938\n",
      "After 40 epochs, loss =142.68206787109375\n",
      "After 50 epochs, loss =112.45100402832031\n",
      "After 60 epochs, loss =88.6252670288086\n",
      "After 70 epochs, loss =69.84764099121094\n",
      "After 80 epochs, loss =55.0485954284668\n",
      "After 90 epochs, loss =43.385066986083984\n"
     ]
    }
   ],
   "source": [
    "import torch\n",
    "import numpy as np\n",
    "from torch.autograd import Variable\n",
    "\n",
    "x = Variable(torch.tensor([12.4,14.3,14.5,14.9,16.1,16.9,16.5,15.4,17.0,17.9,18.8,20.3,22.4,19.4,15.5,16.7,17.3,18.4,19.2,17.4,19.5,19.7,21.2]))\n",
    "y = Variable(torch.tensor([11.2,12.5,12.7,13.1,14.1,14.8,14.4,13.4,14.9,15.6,16.4,17.7,19.6,16.9,14.0,14.6,15.1,16.1,16.8,15.2,17.0,17.2,18.6]))\n",
    "\n",
    "class RegressionModel(torch.nn.Module):\n",
    "    def __init__(self):\n",
    "        super(RegressionModel, self).__init__()\n",
    "        self.linear = torch.nn.Linear(23, 23)\n",
    "        \n",
    "    def forward(self,x):\n",
    "        return self.linear(x)\n",
    "\n",
    "model = RegressionModel()\n",
    "criterion = torch.nn.MSELoss()\n",
    "optimizer = torch.optim.SGD(model.parameters(), lr = 0.0032)\n",
    "\n",
    "for epochs in range(100):\n",
    "    pred_y = model(x)\n",
    "    loss = criterion(pred_y, y)\n",
    "    optimizer.zero_grad()\n",
    "    loss.backward()\n",
    "    optimizer.step()\n",
    "    if epochs%10==0:\n",
    "        print(\"After {} epochs, loss ={}\".format(epochs,loss.item()))"
   ]
  },
  {
   "cell_type": "markdown",
   "id": "64c5f7f9-e09a-4612-83b0-499c28c6b03a",
   "metadata": {},
   "source": [
    "## Q6"
   ]
  },
  {
   "cell_type": "code",
   "execution_count": 90,
   "id": "e7d8c406-9299-42a3-9ddf-f3775069d17f",
   "metadata": {},
   "outputs": [
    {
     "name": "stdout",
     "output_type": "stream",
     "text": [
      "[tensor([6, 2]), tensor([3, 1]), tensor([11.5000,  5.7000])]\n",
      "[tensor([4, 3]), tensor([5, 8]), tensor([ 3.5000, -3.5000])]\n",
      "[tensor([5]), tensor([7]), tensor([2.5000])]\n",
      "After 0 epochs, The parameters are w=Parameter containing:\n",
      "tensor([0.8339], requires_grad=True),b=Parameter containing:\n",
      "tensor([0.0054], requires_grad=True), and loss =Parameter containing:\n",
      "tensor([0.2483], requires_grad=True)\n",
      "After 10 epochs, The parameters are w=Parameter containing:\n",
      "tensor([1.1125], requires_grad=True),b=Parameter containing:\n",
      "tensor([-0.3199], requires_grad=True), and loss =Parameter containing:\n",
      "tensor([0.2923], requires_grad=True)\n",
      "After 20 epochs, The parameters are w=Parameter containing:\n",
      "tensor([1.3566], requires_grad=True),b=Parameter containing:\n",
      "tensor([-0.5828], requires_grad=True), and loss =Parameter containing:\n",
      "tensor([0.3347], requires_grad=True)\n",
      "After 30 epochs, The parameters are w=Parameter containing:\n",
      "tensor([1.5729], requires_grad=True),b=Parameter containing:\n",
      "tensor([-0.7544], requires_grad=True), and loss =Parameter containing:\n",
      "tensor([0.3780], requires_grad=True)\n",
      "After 40 epochs, The parameters are w=Parameter containing:\n",
      "tensor([1.7871], requires_grad=True),b=Parameter containing:\n",
      "tensor([-0.8581], requires_grad=True), and loss =Parameter containing:\n",
      "tensor([0.4234], requires_grad=True)\n",
      "After 50 epochs, The parameters are w=Parameter containing:\n",
      "tensor([1.9184], requires_grad=True),b=Parameter containing:\n",
      "tensor([-0.9963], requires_grad=True), and loss =Parameter containing:\n",
      "tensor([0.4547], requires_grad=True)\n",
      "After 60 epochs, The parameters are w=Parameter containing:\n",
      "tensor([2.0720], requires_grad=True),b=Parameter containing:\n",
      "tensor([-1.0709], requires_grad=True), and loss =Parameter containing:\n",
      "tensor([0.4854], requires_grad=True)\n",
      "After 70 epochs, The parameters are w=Parameter containing:\n",
      "tensor([2.1618], requires_grad=True),b=Parameter containing:\n",
      "tensor([-1.1745], requires_grad=True), and loss =Parameter containing:\n",
      "tensor([0.5049], requires_grad=True)\n",
      "After 80 epochs, The parameters are w=Parameter containing:\n",
      "tensor([2.2345], requires_grad=True),b=Parameter containing:\n",
      "tensor([-1.2403], requires_grad=True), and loss =Parameter containing:\n",
      "tensor([0.5282], requires_grad=True)\n",
      "After 90 epochs, The parameters are w=Parameter containing:\n",
      "tensor([2.3134], requires_grad=True),b=Parameter containing:\n",
      "tensor([-1.2861], requires_grad=True), and loss =Parameter containing:\n",
      "tensor([0.5501], requires_grad=True)\n",
      "tensor(0.0531, grad_fn=<MulBackward0>)\n"
     ]
    }
   ],
   "source": [
    "import torch\n",
    "from torch.utils.data import Dataset,DataLoader\n",
    "\n",
    "class MyDataset(Dataset):\n",
    "    def __init__(self,X1,X2,Y):\n",
    "        self.X1 = X1\n",
    "        self.X2 = X2\n",
    "        self.Y = Y\n",
    "    def __len__(self):\n",
    "        return len(self.X1)\n",
    "    def __getitem__(self,idx):\n",
    "        return self.X1[idx],self.X2[idx],self.Y[idx]\n",
    "\n",
    "x1 = torch.tensor([3,4,5,6,2])\n",
    "x2 = torch.tensor([8,5,7,3,1])\n",
    "y = torch.tensor([-3.5,3.5,2.5,11.5,5.7])\n",
    "dataset = MyDataset(x1,x2,y)\n",
    "data_loader = DataLoader(dataset,batch_size=2,shuffle=True)\n",
    "\n",
    "for data in iter(data_loader):\n",
    "    print(data)\n",
    "\n",
    "class RegressionModel(torch.nn.Module):\n",
    "    def __init__(self):\n",
    "        super().__init__()\n",
    "        self.w1 = torch.nn.Parameter(torch.rand([1],requires_grad = True))\n",
    "        self.w2 = torch.nn.Parameter(torch.rand([1],requires_grad = True))\n",
    "        self.b = torch.nn.Parameter(torch.rand([1],requires_grad = True))\n",
    "    def forward(self,x1,x2):\n",
    "        return self.w1*x1 + self.w2*x2 + self.b\n",
    "\n",
    "loss_fn = torch.nn.MSELoss()\n",
    "model = RegressionModel()\n",
    "optimizer = torch.optim.SGD(model.parameters(),lr = 0.001)\n",
    "\n",
    "for epochs in range(100):\n",
    "    loss = 0.0\n",
    "    for i,data in enumerate(data_loader):\n",
    "        x1,x2,labels = data\n",
    "        optimizer.zero_grad()\n",
    "        outputs = model(x1,x2)\n",
    "        loss = loss_fn(outputs,labels)\n",
    "        loss.backward()\n",
    "        optimizer.step()\n",
    "    loss += loss.item()\n",
    "\n",
    "    if epochs%10==0:\n",
    "        print(\"After {} epochs, The parameters are w={},b={}, and loss ={}\".format(epochs, model.w1,model.w2,model.b,loss.item()))\n",
    "\n",
    "    finalloss = loss/len(data_loader)*4\n",
    "\n",
    "print(finalloss)"
   ]
  },
  {
   "cell_type": "markdown",
   "id": "788fb00d-b7bd-4161-84b6-3b012d57d769",
   "metadata": {},
   "source": [
    "## Q7"
   ]
  },
  {
   "cell_type": "code",
   "execution_count": 91,
   "id": "804a5bc8-0bff-49ac-bce6-b556899a5df7",
   "metadata": {},
   "outputs": [
    {
     "name": "stdout",
     "output_type": "stream",
     "text": [
      "After 0 epochs, The parameters are w=Parameter containing:\n",
      "tensor([0.1368], requires_grad=True),b=Parameter containing:\n",
      "tensor([0.3484], requires_grad=True), and loss =1.6689307358319638e-06\n",
      "After 10 epochs, The parameters are w=Parameter containing:\n",
      "tensor([0.0383], requires_grad=True),b=Parameter containing:\n",
      "tensor([0.3192], requires_grad=True), and loss =0.03761478513479233\n",
      "After 20 epochs, The parameters are w=Parameter containing:\n",
      "tensor([0.0387], requires_grad=True),b=Parameter containing:\n",
      "tensor([0.2929], requires_grad=True), and loss =0.03703095018863678\n",
      "After 30 epochs, The parameters are w=Parameter containing:\n",
      "tensor([0.0391], requires_grad=True),b=Parameter containing:\n",
      "tensor([0.2669], requires_grad=True), and loss =0.03645676001906395\n",
      "After 40 epochs, The parameters are w=Parameter containing:\n",
      "tensor([0.0395], requires_grad=True),b=Parameter containing:\n",
      "tensor([0.2411], requires_grad=True), and loss =0.035892076790332794\n",
      "After 50 epochs, The parameters are w=Parameter containing:\n",
      "tensor([0.0399], requires_grad=True),b=Parameter containing:\n",
      "tensor([0.2155], requires_grad=True), and loss =0.035336531698703766\n",
      "After 60 epochs, The parameters are w=Parameter containing:\n",
      "tensor([0.0403], requires_grad=True),b=Parameter containing:\n",
      "tensor([0.1901], requires_grad=True), and loss =0.03479011356830597\n",
      "After 70 epochs, The parameters are w=Parameter containing:\n",
      "tensor([0.0406], requires_grad=True),b=Parameter containing:\n",
      "tensor([0.1649], requires_grad=True), and loss =0.034253064543008804\n",
      "After 80 epochs, The parameters are w=Parameter containing:\n",
      "tensor([0.0410], requires_grad=True),b=Parameter containing:\n",
      "tensor([0.1400], requires_grad=True), and loss =0.033724647015333176\n",
      "After 90 epochs, The parameters are w=Parameter containing:\n",
      "tensor([0.0414], requires_grad=True),b=Parameter containing:\n",
      "tensor([0.1152], requires_grad=True), and loss =0.033205337822437286\n",
      "tensor(0.0146, grad_fn=<MulBackward0>)\n"
     ]
    }
   ],
   "source": [
    "import torch\n",
    "from torch.utils.data import Dataset,DataLoader\n",
    "\n",
    "class MyDataset(Dataset):\n",
    "    def __init__(self,X,Y):\n",
    "        self.X = X\n",
    "        self.Y = Y\n",
    "    def __len__(self):\n",
    "        return len(self.X)\n",
    "    def __getitem__(self,idx):\n",
    "        return self.X[idx],self.Y[idx]\n",
    "\n",
    "x = torch.tensor([1,5,10,10,25,50,70,75,100])\n",
    "y = torch.tensor([0,0,0,0,0,1,1,1,1])\n",
    "dataset = MyDataset(x,y)\n",
    "data_loader = DataLoader(dataset,batch_size=1,shuffle=False)\n",
    "\n",
    "class RegressionModel(torch.nn.Module):\n",
    "    def __init__(self):\n",
    "        super().__init__()\n",
    "        self.w = torch.nn.Parameter(torch.rand([1],requires_grad = True))\n",
    "        self.b = torch.nn.Parameter(torch.rand([1],requires_grad = True))\n",
    "    def forward(self,x):\n",
    "        return self.w*x + self.b\n",
    "\n",
    "loss_fn = torch.nn.BCELoss()\n",
    "model = RegressionModel()\n",
    "optimizer = torch.optim.SGD(model.parameters(),lr = 0.001)\n",
    "\n",
    "for epochs in range(100):\n",
    "    loss = 0.0\n",
    "    for i,data in enumerate(data_loader):\n",
    "        inputs,labels = data\n",
    "        optimizer.zero_grad()\n",
    "        outputs = model(inputs)\n",
    "        sigmoid = torch.nn.Sigmoid()\n",
    "        outputs = sigmoid(outputs)\n",
    "        labels = labels.to(torch.float32)\n",
    "        loss = loss_fn(outputs,labels)\n",
    "        loss.backward()\n",
    "        optimizer.step()\n",
    "        loss += loss.item()\n",
    "\n",
    "    if epochs%10==0:\n",
    "        print(\"After {} epochs, The parameters are w={},b={}, and loss ={}\".format(epochs, model.w,model.b,loss.item()))\n",
    "\n",
    "    finalloss = loss/len(data_loader)*4\n",
    "\n",
    "print(finalloss)\n"
   ]
  }
 ],
 "metadata": {
  "kernelspec": {
   "display_name": "Python 3 (ipykernel)",
   "language": "python",
   "name": "python3"
  },
  "language_info": {
   "codemirror_mode": {
    "name": "ipython",
    "version": 3
   },
   "file_extension": ".py",
   "mimetype": "text/x-python",
   "name": "python",
   "nbconvert_exporter": "python",
   "pygments_lexer": "ipython3",
   "version": "3.9.13"
  }
 },
 "nbformat": 4,
 "nbformat_minor": 5
}
