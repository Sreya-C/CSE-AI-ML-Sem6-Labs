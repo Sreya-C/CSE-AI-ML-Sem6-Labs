{
 "cells": [
  {
   "cell_type": "markdown",
   "id": "0b20dee0-bb14-4c0b-a8cb-e6121ceb2efe",
   "metadata": {},
   "source": [
    "## Q1"
   ]
  },
  {
   "cell_type": "code",
   "execution_count": 12,
   "id": "704b6fd7-6b15-48b8-aade-7b5c8463eb90",
   "metadata": {},
   "outputs": [
    {
     "data": {
      "text/plain": [
       "[<matplotlib.lines.Line2D at 0x22168071640>]"
      ]
     },
     "execution_count": 12,
     "metadata": {},
     "output_type": "execute_result"
    },
    {
     "data": {
      "image/png": "[encoded data removed]",
      "text/plain": [
       "<Figure size 640x480 with 1 Axes>"
      ]
     },
     "metadata": {},
     "output_type": "display_data"
    }
   ],
   "source": [
    "import torch\n",
    "import numpy as np\n",
    "from torch.autograd import grad\n",
    "import matplotlib.pyplot as plt\n",
    "\n",
    "x = torch.tensor([12.4,14.3,14.5,14.9,16.1,16.9,16.5,15.4,17.0,17.9,18.8,20.3,22.4,19.4,15.5,16.7,17.3,18.4,19.2,17.4,19.5,19.7,21.2])\n",
    "y = torch.tensor([11.2,12.5,12.7,13.1,14.1,14.8,14.4,13.4,14.9,15.6,16.4,17.7,19.6,16.9,14.0,14.6,15.1,16.1,16.8,15.2,17.0,17.2,18.6])\n",
    "b = torch.rand([1],requires_grad = True)\n",
    "w = torch.rand([1],requires_grad = True)\n",
    "learning_rate = torch.tensor(0.001)\n",
    "loss_list = []\n",
    "\n",
    "for epochs in range(100):\n",
    "    loss = 0.0\n",
    "    for j in range(len(x)):\n",
    "        a = w*x[j]\n",
    "        y_p = a + b\n",
    "        loss += (y[j] - y_p)**2\n",
    "    loss = loss/len(x)\n",
    "    loss_list.append(loss.item())\n",
    "\n",
    "    loss.backward()\n",
    "\n",
    "    with torch.no_grad():\n",
    "        w -= learning_rate*w.grad\n",
    "        b -= learning_rate*b.grad\n",
    "\n",
    "    w.grad.zero_()\n",
    "    b.grad.zero_()\n",
    "\n",
    "plt.plot(loss_list)"
   ]
  },
  {
   "cell_type": "markdown",
   "id": "c98a3148-ac91-47e1-8021-04c4236e0232",
   "metadata": {},
   "source": [
    "## Q2"
   ]
  },
  {
   "cell_type": "code",
   "execution_count": 1,
   "id": "eb7ae38b-678c-4a58-91d7-8782d264b840",
   "metadata": {},
   "outputs": [
    {
     "name": "stdout",
     "output_type": "stream",
     "text": [
      "tensor(-174.) tensor(-52.)\n",
      "w = 1.1740000247955322,b = 1.0520000457763672,loss = 757.0\n",
      "tensor(-170.2080) tensor(-50.8520)\n",
      "w = 1.344208002090454,b = 1.1028521060943604,loss = 724.3797607421875\n",
      "Analytical Solution\n",
      "w = 1.17, b= 1.1, loss = 757.0\n",
      "w = 1.3353199999999998, b= 1.1968800000000002, loss = 722.621\n"
     ]
    },
    {
     "data": {
      "text/plain": [
       "722.621"
      ]
     },
     "execution_count": 1,
     "metadata": {},
     "output_type": "execute_result"
    }
   ],
   "source": [
    "import torch\n",
    "import numpy as np\n",
    "from torch.autograd import grad\n",
    "import matplotlib.pyplot as plt\n",
    "\n",
    "inp_x = np.array([2,4])\n",
    "inp_y = np.array([20,40])\n",
    "\n",
    "x = torch.tensor(inp_x)\n",
    "y = torch.tensor(inp_y)\n",
    "b = torch.tensor(1.,requires_grad = True)\n",
    "w = torch.tensor(1.,requires_grad = True)\n",
    "learning_rate = torch.tensor(0.001)\n",
    "loss_list = []\n",
    "\n",
    "for epochs in range(2):\n",
    "    loss = 0.0\n",
    "    for j in range(len(x)):\n",
    "        a = w*x[j]\n",
    "        y_p = a + b\n",
    "        loss += (y[j] - y_p)**2\n",
    "    loss = loss/len(x)\n",
    "    loss_list.append(loss.item())\n",
    "    loss.backward()\n",
    "    \n",
    "    with torch.no_grad():\n",
    "        w -= learning_rate*w.grad\n",
    "        b -= learning_rate*b.grad\n",
    "    \n",
    "    print(w.grad,b.grad)\n",
    "    w.grad.zero_()\n",
    "    b.grad.zero_()\n",
    "    print(\"w = {},b = {},loss = {}\".format(w,b,loss))\n",
    "\n",
    "def analytical(x,y,w,b):\n",
    "    for epoch in range(2):\n",
    "        loss = 0.0\n",
    "        for j in range(len(x)):\n",
    "            y_p = x[j]*w + b\n",
    "            loss += (y_p - y[j])**2\n",
    "        loss = loss/len(x)\n",
    "        wgrad,bgrad = 0,0\n",
    "        for j in range(len(x)):\n",
    "            wgrad += (y_p - y[j])*(x[j])\n",
    "            bgrad += (y_p - y[j])*2\n",
    "        w -= 0.001*wgrad*2/len(x)\n",
    "        b -= 0.001*bgrad*2/len(x)\n",
    "        print(f\"w = {w}, b= {b}, loss = {loss}\")  \n",
    "    return loss\n",
    "\n",
    "print(\"Analytical Solution\")\n",
    "analytical(inp_x,inp_y,1,1)"
   ]
  },
  {
   "cell_type": "markdown",
   "id": "b21cb4cb-50de-4eca-b725-9044579a8017",
   "metadata": {},
   "source": [
    "## Q3"
   ]
  },
  {
   "cell_type": "code",
   "execution_count": 106,
   "id": "6bb898c8-a129-4493-803a-618e05e7c2be",
   "metadata": {},
   "outputs": [
    {
     "name": "stdout",
     "output_type": "stream",
     "text": [
      "The parameters are w=tensor([12.8866], requires_grad=True),b=tensor([1.6292], requires_grad=True), and loss =483.07269287109375\n"
     ]
    },
    {
     "data": {
      "text/plain": [
       "[<matplotlib.lines.Line2D at 0x2216bcbe970>]"
      ]
     },
     "execution_count": 106,
     "metadata": {},
     "output_type": "execute_result"
    },
    {
     "data": {
      "image/png": "[encoded data removed]",
      "text/plain": [
       "<Figure size 640x480 with 1 Axes>"
      ]
     },
     "metadata": {},
     "output_type": "display_data"
    }
   ],
   "source": [
    "x = torch.tensor([5.0,7.0,12.0,16.0,20.0])\n",
    "y = torch.tensor([40.0,120.0,180.0,210.0,240.0])\n",
    "learning_rate = torch.tensor(0.001)\n",
    "\n",
    "class RegressionModel:\n",
    "    def __init__(self):\n",
    "        self.w = torch.rand([1],requires_grad = True)\n",
    "        self.b = torch.rand([1],requires_grad = True)\n",
    "    def forward(self,x):\n",
    "        return self.w*x + self.b\n",
    "    def update(self):\n",
    "        self.w -= learning_rate*self.w.grad\n",
    "        self.b -= learning_rate*self.b.grad\n",
    "    def reset_grad(self):\n",
    "        self.w.grad.zero_()\n",
    "        self.b.grad.zero_()\n",
    "\n",
    "def criterion(yj,y_p):\n",
    "    return (yj - y_p)**2\n",
    "\n",
    "model = RegressionModel()\n",
    "loss_list = []\n",
    "\n",
    "for epochs in range(100):\n",
    "    loss = 0.0\n",
    "    for j in range(len(x)):\n",
    "        y_p = model.for ward(x[j])\n",
    "        loss += criterion(y[j],y_p)\n",
    "    loss = loss/len(x)\n",
    "    loss_list.append(loss.item())\n",
    "\n",
    "    loss.backward()\n",
    "\n",
    "    with torch.no_grad():\n",
    "        model.update()\n",
    "    model.reset_grad()\n",
    "\n",
    "print(\"The parameters are w={},b={}, and loss ={}\".format(model.w,model.b,loss.item()))\n",
    "\n",
    "plt.plot(loss_list)"
   ]
  },
  {
   "cell_type": "markdown",
   "id": "15886bfb-0cd1-42f6-801b-7cfd4d4eb574",
   "metadata": {},
   "source": [
    "## Q4"
   ]
  },
  {
   "cell_type": "code",
   "execution_count": 112,
   "id": "6a4208e5-cb7b-4063-ac17-6023d19a6df6",
   "metadata": {
    "scrolled": false
   },
   "outputs": [
    {
     "name": "stdout",
     "output_type": "stream",
     "text": [
      "The parameters are w=13.393571853637695,b=3.9378788471221924, and loss =2031.0517578125\n",
      "4062.103515625\n"
     ]
    },
    {
     "data": {
      "text/plain": [
       "[<matplotlib.lines.Line2D at 0x2216bd860a0>]"
      ]
     },
     "execution_count": 112,
     "metadata": {},
     "output_type": "execute_result"
    },
    {
     "data": {
      "image/png": "[encoded data removed]",
      "text/plain": [
       "<Figure size 640x480 with 1 Axes>"
      ]
     },
     "metadata": {},
     "output_type": "display_data"
    }
   ],
   "source": [
    "import torch\n",
    "from torch.utils.data import Dataset,DataLoader\n",
    "\n",
    "class MyDataset(Dataset):\n",
    "    def __init__(self,X,Y):\n",
    "        self.X = X\n",
    "        self.Y = Y\n",
    "    def __len__(self):\n",
    "        return len(self.X)\n",
    "    def __getitem__(self,idx):\n",
    "        return self.X[idx],self.Y[idx]\n",
    "\n",
    "x = torch.tensor([5.0,7.0,12.0,16.0,20.0])\n",
    "y = torch.tensor([40.0,120.0,180.0,210.0,240.0])\n",
    "dataset = MyDataset(x,y)\n",
    "data_loader = DataLoader(dataset,batch_size=4,shuffle=True)\n",
    "    \n",
    "learning_rate = torch.tensor(0.001)\n",
    "\n",
    "class RegressionModel(torch.nn.Module):\n",
    "    def __init__(self):\n",
    "        super().__init__()\n",
    "        self.w = torch.nn.Parameter(torch.rand([1],requires_grad = True))\n",
    "        self.b = torch.nn.Parameter(torch.rand([1],requires_grad = True))\n",
    "    def forward(self,x):\n",
    "        return self.w*x + self.b\n",
    "\n",
    "loss_fn = torch.nn.MSELoss()\n",
    "model = RegressionModel()\n",
    "optimizer = torch.optim.SGD(model.parameters(),lr = 0.003)\n",
    "\n",
    "for epochs in range(100):\n",
    "    loss = 0.0\n",
    "    for i,data in enumerate(data_loader):\n",
    "        inputs,labels = data\n",
    "        optimizer.zero_grad()\n",
    "        outputs = model(inputs)\n",
    "        loss = loss_fn(outputs,labels)\n",
    "        loss.backward()\n",
    "        optimizer.step()\n",
    "    loss += loss.item()\n",
    "    finalloss = loss/len(data_loader)*4\n",
    "\n",
    "print(\"The parameters are w={},b={}, and loss ={}\".format(model.w.item(),model.b.item(),loss.item()))\n",
    "\n",
    "    \n",
    "print(finalloss.item())\n",
    "\n",
    "plt.plot(loss_list)"
   ]
  },
  {
   "cell_type": "markdown",
   "id": "92b998de-5909-4627-919f-51f61d1c04a7",
   "metadata": {},
   "source": [
    "## Q5"
   ]
  },
  {
   "cell_type": "code",
   "execution_count": 114,
   "id": "0e4b2b7f-ebe8-406f-8e0c-7907008db186",
   "metadata": {},
   "outputs": [
    {
     "name": "stdout",
     "output_type": "stream",
     "text": [
      "loss =37.0013313293457\n"
     ]
    }
   ],
   "source": [
    "import torch\n",
    "import numpy as np\n",
    "from torch.autograd import Variable\n",
    "\n",
    "x = Variable(torch.tensor([12.4,14.3,14.5,14.9,16.1,16.9,16.5,15.4,17.0,17.9,18.8,20.3,22.4,19.4,15.5,16.7,17.3,18.4,19.2,17.4,19.5,19.7,21.2]))\n",
    "y = Variable(torch.tensor([11.2,12.5,12.7,13.1,14.1,14.8,14.4,13.4,14.9,15.6,16.4,17.7,19.6,16.9,14.0,14.6,15.1,16.1,16.8,15.2,17.0,17.2,18.6]))\n",
    "\n",
    "class RegressionModel(torch.nn.Module):\n",
    "    def __init__(self):\n",
    "        super(RegressionModel, self).__init__()\n",
    "        self.linear = torch.nn.Linear(23, 23)\n",
    "        \n",
    "    def forward(self,x):\n",
    "        return self.linear(x)\n",
    "\n",
    "model = RegressionModel()\n",
    "criterion = torch.nn.MSELoss()\n",
    "optimizer = torch.optim.SGD(model.parameters(), lr = 0.0032)\n",
    "\n",
    "for epochs in range(100):\n",
    "    pred_y = model(x)\n",
    "    loss = criterion(pred_y, y)\n",
    "    optimizer.zero_grad()\n",
    "    loss.backward()\n",
    "    optimizer.step()\n",
    "print(\"loss ={}\".format(loss.item()))"
   ]
  },
  {
   "cell_type": "markdown",
   "id": "64c5f7f9-e09a-4612-83b0-499c28c6b03a",
   "metadata": {},
   "source": [
    "## Q6"
   ]
  },
  {
   "cell_type": "code",
   "execution_count": 93,
   "id": "e7d8c406-9299-42a3-9ddf-f3775069d17f",
   "metadata": {},
   "outputs": [
    {
     "name": "stdout",
     "output_type": "stream",
     "text": [
      "[tensor([2, 4]), tensor([1, 5]), tensor([5.7000, 3.5000])]\n",
      "[tensor([3, 5]), tensor([8, 7]), tensor([-3.5000,  2.5000])]\n",
      "[tensor([6]), tensor([3]), tensor([11.5000])]\n",
      "After 0 epochs, The parameters are w=Parameter containing:\n",
      "tensor([0.5966], requires_grad=True),b=Parameter containing:\n",
      "tensor([0.4986], requires_grad=True), and loss =Parameter containing:\n",
      "tensor([0.7340], requires_grad=True)\n",
      "After 33 epochs, The parameters are w=Parameter containing:\n",
      "tensor([1.4382], requires_grad=True),b=Parameter containing:\n",
      "tensor([-0.6352], requires_grad=True), and loss =Parameter containing:\n",
      "tensor([0.8543], requires_grad=True)\n",
      "After 66 epochs, The parameters are w=Parameter containing:\n",
      "tensor([1.9467], requires_grad=True),b=Parameter containing:\n",
      "tensor([-1.0939], requires_grad=True), and loss =Parameter containing:\n",
      "tensor([0.9523], requires_grad=True)\n",
      "After 99 epochs, The parameters are w=Parameter containing:\n",
      "tensor([2.2340], requires_grad=True),b=Parameter containing:\n",
      "tensor([-1.3188], requires_grad=True), and loss =Parameter containing:\n",
      "tensor([1.0201], requires_grad=True)\n",
      "tensor(1.6566, grad_fn=<MulBackward0>)\n"
     ]
    }
   ],
   "source": [
    "import torch\n",
    "from torch.utils.data import Dataset,DataLoader\n",
    "\n",
    "class MyDataset(Dataset):\n",
    "    def __init__(self,X1,X2,Y):\n",
    "        self.X1 = X1\n",
    "        self.X2 = X2\n",
    "        self.Y = Y\n",
    "    def __len__(self):\n",
    "        return len(self.X1)\n",
    "    def __getitem__(self,idx):\n",
    "        return self.X1[idx],self.X2[idx],self.Y[idx]\n",
    "\n",
    "x1 = torch.tensor([3,4,5,6,2])\n",
    "x2 = torch.tensor([8,5,7,3,1])\n",
    "y = torch.tensor([-3.5,3.5,2.5,11.5,5.7])\n",
    "dataset = MyDataset(x1,x2,y)\n",
    "data_loader = DataLoader(dataset,batch_size=2,shuffle=True)\n",
    "\n",
    "for data in iter(data_loader):\n",
    "    print(data)\n",
    "\n",
    "class RegressionModel(torch.nn.Module):\n",
    "    def __init__(self):\n",
    "        super().__init__()\n",
    "        self.w1 = torch.nn.Parameter(torch.rand([1],requires_grad = True))\n",
    "        self.w2 = torch.nn.Parameter(torch.rand([1],requires_grad = True))\n",
    "        self.b = torch.nn.Parameter(torch.rand([1],requires_grad = True))\n",
    "    def forward(self,x1,x2):\n",
    "        return self.w1*x1 + self.w2*x2 + self.b\n",
    "\n",
    "loss_fn = torch.nn.MSELoss()\n",
    "model = RegressionModel()\n",
    "optimizer = torch.optim.SGD(model.parameters(),lr = 0.001)\n",
    "\n",
    "for epochs in range(100):\n",
    "    loss = 0.0\n",
    "    for i,data in enumerate(data_loader):\n",
    "        x1,x2,labels = data\n",
    "        optimizer.zero_grad()\n",
    "        outputs = model(x1,x2)\n",
    "        loss = loss_fn(outputs,labels)\n",
    "        loss.backward()\n",
    "        optimizer.step()\n",
    "    loss += loss.item()\n",
    "\n",
    "    if epochs%33==0:\n",
    "        print(\"After {} epochs, The parameters are w={},b={}, and loss ={}\".format(epochs, model.w1,model.w2,model.b,loss.item()))\n",
    "\n",
    "    finalloss = loss/len(data_loader)*4\n",
    "\n",
    "print(finalloss)"
   ]
  },
  {
   "cell_type": "markdown",
   "id": "788fb00d-b7bd-4161-84b6-3b012d57d769",
   "metadata": {},
   "source": [
    "## Q7"
   ]
  },
  {
   "cell_type": "code",
   "execution_count": 94,
   "id": "804a5bc8-0bff-49ac-bce6-b556899a5df7",
   "metadata": {},
   "outputs": [
    {
     "name": "stdout",
     "output_type": "stream",
     "text": [
      "After 0 epochs, The parameters are w=Parameter containing:\n",
      "tensor([0.8483], requires_grad=True),b=Parameter containing:\n",
      "tensor([0.8290], requires_grad=True), and loss =0.0\n",
      "After 33 epochs, The parameters are w=Parameter containing:\n",
      "tensor([0.0327], requires_grad=True),b=Parameter containing:\n",
      "tensor([0.7047], requires_grad=True), and loss =0.04674274101853371\n",
      "After 66 epochs, The parameters are w=Parameter containing:\n",
      "tensor([0.0341], requires_grad=True),b=Parameter containing:\n",
      "tensor([0.6089], requires_grad=True), and loss =0.0443776473402977\n",
      "After 99 epochs, The parameters are w=Parameter containing:\n",
      "tensor([0.0354], requires_grad=True),b=Parameter containing:\n",
      "tensor([0.5155], requires_grad=True), and loss =0.04213319718837738\n",
      "tensor(0.0187, grad_fn=<MulBackward0>)\n"
     ]
    }
   ],
   "source": [
    "import torch\n",
    "from torch.utils.data import Dataset,DataLoader\n",
    "\n",
    "class MyDataset(Dataset):\n",
    "    def __init__(self,X,Y):\n",
    "        self.X = X\n",
    "        self.Y = Y\n",
    "    def __len__(self):\n",
    "        return len(self.X)\n",
    "    def __getitem__(self,idx):\n",
    "        return self.X[idx],self.Y[idx]\n",
    "\n",
    "x = torch.tensor([1,5,10,10,25,50,70,75,100])\n",
    "y = torch.tensor([0,0,0,0,0,1,1,1,1])\n",
    "dataset = MyDataset(x,y)\n",
    "data_loader = DataLoader(dataset,batch_size=1,shuffle=False)\n",
    "\n",
    "class RegressionModel(torch.nn.Module):\n",
    "    def __init__(self):\n",
    "        super().__init__()\n",
    "        self.w = torch.nn.Parameter(torch.rand([1],requires_grad = True))\n",
    "        self.b = torch.nn.Parameter(torch.rand([1],requires_grad = True))\n",
    "    def forward(self,x):\n",
    "        return self.w*x + self.b\n",
    "\n",
    "loss_fn = torch.nn.BCELoss()\n",
    "model = RegressionModel()\n",
    "optimizer = torch.optim.SGD(model.parameters(),lr = 0.001)\n",
    "\n",
    "for epochs in range(100):\n",
    "    loss = 0.0\n",
    "    for i,data in enumerate(data_loader):\n",
    "        inputs,labels = data\n",
    "        optimizer.zero_grad()\n",
    "        outputs = model(inputs)\n",
    "        sigmoid = torch.nn.Sigmoid()\n",
    "        outputs = sigmoid(outputs)\n",
    "        labels = labels.to(torch.float32)\n",
    "        loss = loss_fn(outputs,labels)\n",
    "        loss.backward()\n",
    "        optimizer.step()\n",
    "        loss += loss.item()\n",
    "\n",
    "    if epochs%33==0:\n",
    "        print(\"After {} epochs, The parameters are w={},b={}, and loss ={}\".format(epochs, model.w,model.b,loss.item()))\n",
    "\n",
    "    finalloss = loss/len(data_loader)*4\n",
    "\n",
    "print(finalloss)\n"
   ]
  },
  {
   "cell_type": "code",
   "execution_count": null,
   "id": "b0d9d13e",
   "metadata": {},
   "outputs": [],
   "source": []
  }
 ],
 "metadata": {
  "kernelspec": {
   "display_name": "Python 3 (ipykernel)",
   "language": "python",
   "name": "python3"
  },
  "language_info": {
   "codemirror_mode": {
    "name": "ipython",
    "version": 3
   },
   "file_extension": ".py",
   "mimetype": "text/x-python",
   "name": "python",
   "nbconvert_exporter": "python",
   "pygments_lexer": "ipython3",
   "version": "3.9.13"
  }
 },
 "nbformat": 4,
 "nbformat_minor": 5
}
