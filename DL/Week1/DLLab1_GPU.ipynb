{
 "cells": [
  {
   "cell_type": "code",
   "execution_count": 25,
   "id": "9951484b-3908-4d5c-a743-822075b9dfd3",
   "metadata": {},
   "outputs": [
    {
     "name": "stdout",
     "output_type": "stream",
     "text": [
      "tensor([[0.1126, 0.1884, 0.9518],\n",
      "        [0.7832, 0.9079, 0.2917]], device='cuda:0')\n",
      "tensor([[0.2767, 0.2121, 0.4268],\n",
      "        [0.6724, 0.6687, 0.8829]], device='cuda:0')\n",
      "tensor([[0.4773, 1.0419],\n",
      "        [0.5337, 1.3912]], device='cuda:0')\n",
      "tensor(0.9518, device='cuda:0') tensor(0.8829, device='cuda:0')\n",
      "tensor(0.1126, device='cuda:0') tensor(0.2121, device='cuda:0')\n",
      "tensor(2, device='cuda:0') tensor(5, device='cuda:0')\n",
      "tensor(0, device='cuda:0') tensor(1, device='cuda:0')\n"
     ]
    },
    {
     "ename": "TypeError",
     "evalue": "rand() received an invalid combination of arguments - got (tuple, seed=int), but expected one of:\n * (tuple of ints size, *, torch.Generator generator, tuple of names names, torch.dtype dtype, torch.layout layout, torch.device device, bool pin_memory, bool requires_grad)\n * (tuple of ints size, *, torch.Generator generator, Tensor out, torch.dtype dtype, torch.layout layout, torch.device device, bool pin_memory, bool requires_grad)\n * (tuple of ints size, *, Tensor out, torch.dtype dtype, torch.layout layout, torch.device device, bool pin_memory, bool requires_grad)\n * (tuple of ints size, *, tuple of names names, torch.dtype dtype, torch.layout layout, torch.device device, bool pin_memory, bool requires_grad)\n",
     "output_type": "error",
     "traceback": [
      "\u001b[0;31m---------------------------------------------------------------------------\u001b[0m",
      "\u001b[0;31mTypeError\u001b[0m                                 Traceback (most recent call last)",
      "Cell \u001b[0;32mIn[25], line 24\u001b[0m\n\u001b[1;32m     21\u001b[0m \u001b[38;5;28mprint\u001b[39m(t1_g\u001b[38;5;241m.\u001b[39margmin(),t2_g\u001b[38;5;241m.\u001b[39margmin())\n\u001b[1;32m     23\u001b[0m \u001b[38;5;66;03m#Random tensor with shape(1,1,1,10) and remove all dimensions with shape 1\u001b[39;00m\n\u001b[0;32m---> 24\u001b[0m t3 \u001b[38;5;241m=\u001b[39m torch\u001b[38;5;241m.\u001b[39mrand((\u001b[38;5;241m1\u001b[39m,\u001b[38;5;241m1\u001b[39m,\u001b[38;5;241m1\u001b[39m,\u001b[38;5;241m10\u001b[39m), seed \u001b[38;5;241m=\u001b[39m \u001b[38;5;241m7\u001b[39m)\n\u001b[1;32m     25\u001b[0m \u001b[38;5;28mprint\u001b[39m(t3\u001b[38;5;241m.\u001b[39mshape)\n\u001b[1;32m     26\u001b[0m t3 \u001b[38;5;241m=\u001b[39m torch\u001b[38;5;241m.\u001b[39msqueeze(t3)\n",
      "\u001b[0;31mTypeError\u001b[0m: rand() received an invalid combination of arguments - got (tuple, seed=int), but expected one of:\n * (tuple of ints size, *, torch.Generator generator, tuple of names names, torch.dtype dtype, torch.layout layout, torch.device device, bool pin_memory, bool requires_grad)\n * (tuple of ints size, *, torch.Generator generator, Tensor out, torch.dtype dtype, torch.layout layout, torch.device device, bool pin_memory, bool requires_grad)\n * (tuple of ints size, *, Tensor out, torch.dtype dtype, torch.layout layout, torch.device device, bool pin_memory, bool requires_grad)\n * (tuple of ints size, *, tuple of names names, torch.dtype dtype, torch.layout layout, torch.device device, bool pin_memory, bool requires_grad)\n"
     ]
    }
   ],
   "source": [
    "import torch\n",
    "\n",
    "#Create 2 random tensors of size (2,3) and send them to GPU\n",
    "t1 = torch.rand(2,3)\n",
    "t2 = torch.rand(2,3)\n",
    "t1_g = t1.to(\"cuda\")\n",
    "t2_g = t2.to(\"cuda\")\n",
    "print(t1_g)\n",
    "print(t2_g)\n",
    "\n",
    "#Perform Matrix multiplication\n",
    "tmul = torch.matmul(t1_g,t2_g.T)\n",
    "print(tmul)\n",
    "\n",
    "#Get max and min values of the 2 random tensors\n",
    "print(t1_g.max(),t2_g.max())\n",
    "print(t1_g.min(),t2_g.min())\n",
    "\n",
    "#Get max and min index values of the 2 random tensors\n",
    "print(t1_g.argmax(),t2_g.argmax())\n",
    "print(t1_g.argmin(),t2_g.argmin())\n",
    "\n",
    "#Random tensor with shape(1,1,1,10) and remove all dimensions with shape 1\n",
    "t3 = torch.rand(1,1,1,10)\n",
    "print(t3.shape)\n",
    "t3 = torch.squeeze(t3)\n",
    "print(t3.shape)"
   ]
  },
  {
   "cell_type": "code",
   "execution_count": null,
   "id": "dbb96ed9-39e2-4435-b1f1-36000c67b7a2",
   "metadata": {},
   "outputs": [],
   "source": []
  }
 ],
 "metadata": {
  "kernelspec": {
   "display_name": "Python 3 (ipykernel)",
   "language": "python",
   "name": "python3"
  },
  "language_info": {
   "codemirror_mode": {
    "name": "ipython",
    "version": 3
   },
   "file_extension": ".py",
   "mimetype": "text/x-python",
   "name": "python",
   "nbconvert_exporter": "python",
   "pygments_lexer": "ipython3",
   "version": "3.11.7"
  }
 },
 "nbformat": 4,
 "nbformat_minor": 5
}
