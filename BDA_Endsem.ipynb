{
 "cells": [
  {
   "cell_type": "code",
   "execution_count": 2,
   "metadata": {},
   "outputs": [],
   "source": [
    "from pyspark.sql import SparkSession\n",
    "from pyspark.sql import functions as F\n",
    "from pyspark.ml.recommendation import ALS"
   ]
  },
  {
   "cell_type": "code",
   "execution_count": 3,
   "metadata": {},
   "outputs": [
    {
     "name": "stderr",
     "output_type": "stream",
     "text": [
      "/home/lplab/anaconda3/lib/python3.7/site-packages/pyspark/context.py:317: FutureWarning: Python 3.7 support is deprecated in Spark 3.4.\n",
      "  warnings.warn(\"Python 3.7 support is deprecated in Spark 3.4.\", FutureWarning)\n"
     ]
    }
   ],
   "source": [
    "spark = SparkSession.builder.appName('mov_ratings').getOrCreate()"
   ]
  },
  {
   "cell_type": "markdown",
   "metadata": {},
   "source": [
    "Reading the Data"
   ]
  },
  {
   "cell_type": "code",
   "execution_count": 12,
   "metadata": {},
   "outputs": [
    {
     "name": "stdout",
     "output_type": "stream",
     "text": [
      "+------+-------+------+---------+\n",
      "|Userid|Movieid|Rating|Timestamp|\n",
      "+------+-------+------+---------+\n",
      "|     1|      1|   4.0|964982703|\n",
      "|     1|      3|   4.0|964981247|\n",
      "|     1|      6|   4.0|964982224|\n",
      "|     1|     47|   5.0|964983815|\n",
      "|     1|     50|   5.0|964982931|\n",
      "+------+-------+------+---------+\n",
      "only showing top 5 rows\n",
      "\n",
      "root\n",
      " |-- Userid: integer (nullable = true)\n",
      " |-- Movieid: integer (nullable = true)\n",
      " |-- Rating: double (nullable = true)\n",
      " |-- Timestamp: integer (nullable = true)\n",
      "\n",
      "+-------+--------------------+--------------------+\n",
      "|movieid|               title|              genres|\n",
      "+-------+--------------------+--------------------+\n",
      "|      1|    Toy Story (1995)|Adventure|Animati...|\n",
      "|      2|      Jumanji (1995)|Adventure|Childre...|\n",
      "|      3|Grumpier Old Men ...|      Comedy|Romance|\n",
      "|      4|Waiting to Exhale...|Comedy|Drama|Romance|\n",
      "|      5|Father of the Bri...|              Comedy|\n",
      "+-------+--------------------+--------------------+\n",
      "only showing top 5 rows\n",
      "\n",
      "root\n",
      " |-- movieid: integer (nullable = true)\n",
      " |-- title: string (nullable = true)\n",
      " |-- genres: string (nullable = true)\n",
      "\n"
     ]
    }
   ],
   "source": [
    "ratings = spark.read.option(\"header\",\"true\").option(\"inferSchema\",\"true\").csv(\"ratings.csv\").select(\"Userid\",\"Movieid\",\"Rating\",\"Timestamp\").cache()\n",
    "ratings.show(5)\n",
    "ratings.printSchema()\n",
    "\n",
    "movies = spark.read.option(\"header\",\"true\").option(\"inferSchema\",\"true\").csv(\"movies.csv\").select(\"movieid\",\"title\",\"genres\").cache()\n",
    "movies.show(5)\n",
    "movies.printSchema()"
   ]
  },
  {
   "cell_type": "markdown",
   "metadata": {},
   "source": [
    "### A - Apply ALS Algorithm. Display Userid with Title and Genre\n",
    "\n",
    "### B - Find RMSE"
   ]
  },
  {
   "cell_type": "code",
   "execution_count": 93,
   "metadata": {},
   "outputs": [
    {
     "name": "stdout",
     "output_type": "stream",
     "text": [
      "+------+-------+------+----------+----------+\n",
      "|Userid|Movieid|Rating|Timestamp |prediction|\n",
      "+------+-------+------+----------+----------+\n",
      "|148   |4308   |4.0   |1482548613|3.1101894 |\n",
      "|148   |4886   |3.0   |1482548505|3.104631  |\n",
      "|148   |4896   |4.0   |1482548717|3.4539232 |\n",
      "|148   |5952   |3.0   |1482548769|3.3775644 |\n",
      "|148   |40629  |5.0   |1482548578|4.0114675 |\n",
      "|148   |40815  |4.0   |1482548512|3.6738138 |\n",
      "|148   |50872  |3.0   |1482548504|3.2952244 |\n",
      "|148   |68954  |4.0   |1482548482|3.8991573 |\n",
      "|148   |69844  |4.0   |1482548500|4.497712  |\n",
      "|148   |79702  |4.0   |1482548751|2.4387648 |\n",
      "|148   |81847  |4.5   |1482549236|3.591402  |\n",
      "|148   |89745  |4.0   |1482548710|2.8142447 |\n",
      "|148   |110102 |4.0   |1482548669|3.1342027 |\n",
      "|148   |115617 |3.5   |1482548495|4.649155  |\n",
      "|148   |122886 |3.5   |1482548686|4.53813   |\n",
      "+------+-------+------+----------+----------+\n",
      "only showing top 15 rows\n",
      "\n",
      "Root Mean Squared Error (RMSE) = 1.0632168601108882\n",
      "+------+--------------------+--------------------+\n",
      "|Userid|               title|              genres|\n",
      "+------+--------------------+--------------------+\n",
      "|     1|    Toy Story (1995)|Adventure|Animati...|\n",
      "|     1|Grumpier Old Men ...|      Comedy|Romance|\n",
      "|     1|         Heat (1995)|Action|Crime|Thri...|\n",
      "|     1|Seven (a.k.a. Se7...|    Mystery|Thriller|\n",
      "|     1|Usual Suspects, T...|Crime|Mystery|Thr...|\n",
      "|     1|From Dusk Till Da...|Action|Comedy|Hor...|\n",
      "|     1|Bottle Rocket (1996)|Adventure|Comedy|...|\n",
      "|     1|   Braveheart (1995)|    Action|Drama|War|\n",
      "|     1|      Rob Roy (1995)|Action|Drama|Roma...|\n",
      "|     1|Canadian Bacon (1...|          Comedy|War|\n",
      "|     1|    Desperado (1995)|Action|Romance|We...|\n",
      "|     1|Billy Madison (1995)|              Comedy|\n",
      "|     1|       Clerks (1994)|              Comedy|\n",
      "|     1|Dumb & Dumber (Du...|    Adventure|Comedy|\n",
      "|     1|      Ed Wood (1994)|        Comedy|Drama|\n",
      "|     1|Star Wars: Episod...|Action|Adventure|...|\n",
      "|     1| Pulp Fiction (1994)|Comedy|Crime|Dram...|\n",
      "|     1|     Stargate (1994)|Action|Adventure|...|\n",
      "|     1|    Tommy Boy (1995)|              Comedy|\n",
      "|     1|Clear and Present...|Action|Crime|Dram...|\n",
      "+------+--------------------+--------------------+\n",
      "only showing top 20 rows\n",
      "\n"
     ]
    }
   ],
   "source": [
    "from pyspark.ml.recommendation import ALS\n",
    "from pyspark.ml.evaluation import RegressionEvaluator\n",
    "\n",
    "training_data,validation_data = ratings.randomSplit([8.0,2.0])\n",
    "\n",
    "als = ALS(userCol=\"Userid\",itemCol=\"Movieid\",ratingCol=\"Rating\",rank=10,maxIter=5,regParam=0.01,coldStartStrategy=\"drop\")\n",
    "evaluator = RegressionEvaluator(metricName=\"rmse\",labelCol=\"Rating\",predictionCol=\"prediction\")\n",
    " \n",
    "model = als.fit(training_data)\n",
    "predictions=model.transform(validation_data)\n",
    "predictions.show(15,False)\n",
    "\n",
    "rmse = evaluator.evaluate(predictions)\n",
    "print(f\"Root Mean Squared Error (RMSE) = {rmse}\")\n",
    "\n",
    "# Userid, title and genre\n",
    "df_joined = ratings.join(movies, ratings[\"Movieid\"] == movies[\"movieid\"], \"inner\").select(ratings[\"Userid\"], ratings[\"Movieid\"], ratings[\"Rating\"], ratings[\"Timestamp\"], movies[\"title\"], movies[\"genres\"])\n",
    "df_joined.select('Userid','title','genres').show()"
   ]
  },
  {
   "cell_type": "markdown",
   "metadata": {},
   "source": [
    "### C - Separate all genres individually and display every unique genre along wiht the count of their occurrences"
   ]
  },
  {
   "cell_type": "code",
   "execution_count": 94,
   "metadata": {},
   "outputs": [],
   "source": [
    "from pyspark import SparkContext\n",
    "from pyspark import SparkConf\n",
    "\n",
    "sc = SparkContext.getOrCreate(SparkConf().setMaster(\"local[*]\"))"
   ]
  },
  {
   "cell_type": "code",
   "execution_count": 95,
   "metadata": {},
   "outputs": [
    {
     "name": "stdout",
     "output_type": "stream",
     "text": [
      "Romance: 1596\n",
      "War: 382\n",
      "IMAX: 158\n",
      "Drama: 4361\n",
      "Documentary: 440\n",
      "Sci-Fi: 980\n",
      "Western: 167\n",
      "Horror: 978\n",
      "Mystery: 573\n",
      "Fantasy: 779\n",
      "Musical: 334\n",
      "Children: 664\n",
      "Action: 1828\n",
      "Animation: 611\n",
      "(no genres listed): 34\n",
      "Thriller: 1894\n",
      "Adventure: 1263\n",
      "Comedy: 3756\n",
      "Film-Noir: 87\n",
      "Crime: 1199\n"
     ]
    }
   ],
   "source": [
    "genres = movies.select('genres')\n",
    "all_genres = []\n",
    "\n",
    "genres_rdd = genres.rdd\n",
    "x = genres_rdd.collect()\n",
    "\n",
    "for row in genres.rdd.collect():\n",
    "    genres_all = row[\"genres\"]\n",
    "    all_genres.append(genres_all.split(\"|\"))\n",
    "\n",
    "#print(len(all_genres))\n",
    "    \n",
    "all_genres = sc.parallelize(all_genres).flatMap(lambda x: x)\n",
    "#all_genres.count()\n",
    "\n",
    "counts = all_genres.map(lambda genre: (genre, 1)).reduceByKey(lambda x, y: x + y)\n",
    "\n",
    "output = counts.collect()\n",
    "for (word, count) in output:\n",
    "    print(\"%s: %i\" % (word, count))"
   ]
  },
  {
   "cell_type": "markdown",
   "metadata": {},
   "source": [
    "### D - Display total rating of each movie and total rating of each genre"
   ]
  },
  {
   "cell_type": "code",
   "execution_count": 96,
   "metadata": {},
   "outputs": [
    {
     "name": "stdout",
     "output_type": "stream",
     "text": [
      "+--------------------+-----------+\n",
      "|               title|sum(Rating)|\n",
      "+--------------------+-----------+\n",
      "|       Psycho (1960)|      335.0|\n",
      "|Men in Black (a.k...|      575.5|\n",
      "|Gulliver's Travel...|        9.0|\n",
      "|Heavenly Creature...|       82.5|\n",
      "|    Elizabeth (1998)|       84.5|\n",
      "|Before Night Fall...|       21.5|\n",
      "|O Brother, Where ...|      358.0|\n",
      "|Snow White and th...|      278.5|\n",
      "| Three Wishes (1995)|        3.0|\n",
      "|When We Were King...|       39.0|\n",
      "|   Annie Hall (1977)|      224.5|\n",
      "| If Lucy Fell (1996)|        5.0|\n",
      "|First Blood (Ramb...|      106.5|\n",
      "|Don't Tell Mom th...|       30.5|\n",
      "| Nut Job, The (2014)|       13.0|\n",
      "|22 Jump Street (2...|       70.0|\n",
      "|   Deadpool 2 (2018)|       46.5|\n",
      "|Starship Troopers...|        3.0|\n",
      "|Voices from the L...|       21.5|\n",
      "|Night of the Livi...|      105.0|\n",
      "+--------------------+-----------+\n",
      "only showing top 20 rows\n",
      "\n",
      "+--------------------+-----------+\n",
      "|              genres|sum(Rating)|\n",
      "+--------------------+-----------+\n",
      "|Adventure|Sci-Fi|...|      115.0|\n",
      "|Comedy|Horror|Thr...|      385.5|\n",
      "|Action|Adventure|...|      799.5|\n",
      "| Action|Drama|Horror|       79.5|\n",
      "|Action|Animation|...|       24.5|\n",
      "|Action|Adventure|...|     1794.5|\n",
      "|    Adventure|Sci-Fi|      391.5|\n",
      "|Animation|Childre...|      370.5|\n",
      "|Adventure|Childre...|        7.0|\n",
      "|Documentary|Music...|        3.5|\n",
      "| Adventure|Animation|        5.0|\n",
      "| Musical|Romance|War|       34.0|\n",
      "|Comedy|Crime|Horr...|        8.5|\n",
      "|Adventure|Childre...|       49.0|\n",
      "|Crime|Drama|Fanta...|        9.5|\n",
      "|Action|Adventure|...|       32.5|\n",
      "|   Adventure|Fantasy|     2261.5|\n",
      "|Comedy|Mystery|Th...|      184.5|\n",
      "|Horror|Romance|Sc...|        4.5|\n",
      "|Drama|Film-Noir|R...|      138.0|\n",
      "+--------------------+-----------+\n",
      "only showing top 20 rows\n",
      "\n"
     ]
    }
   ],
   "source": [
    "df_joined = ratings.join(movies, ratings[\"Movieid\"] == movies[\"movieid\"], \"inner\").select(ratings[\"Userid\"], ratings[\"Movieid\"], ratings[\"Rating\"], ratings[\"Timestamp\"], movies[\"title\"], movies[\"genres\"])\n",
    "\n",
    "df_joined.groupBy('title').sum('Rating').show()\n",
    "\n",
    "df_joined.groupBy('genres').sum('Rating').show()"
   ]
  },
  {
   "cell_type": "markdown",
   "metadata": {},
   "source": [
    "### E - 1) Top 10 best performing movies\n",
    "\n",
    "### 2) 5 worst performing movies\n",
    "\n",
    "### 3) Average rating of all movies\n",
    "\n",
    "### 4) Average rating of all users"
   ]
  },
  {
   "cell_type": "code",
   "execution_count": 97,
   "metadata": {},
   "outputs": [
    {
     "name": "stdout",
     "output_type": "stream",
     "text": [
      "+--------------------+------------+\n",
      "|               title|total_rating|\n",
      "+--------------------+------------+\n",
      "|Shawshank Redempt...|      1404.0|\n",
      "| Forrest Gump (1994)|      1370.0|\n",
      "| Pulp Fiction (1994)|      1288.5|\n",
      "|  Matrix, The (1999)|      1165.5|\n",
      "|Silence of the La...|      1161.0|\n",
      "|Star Wars: Episod...|      1062.0|\n",
      "|   Braveheart (1995)|       955.5|\n",
      "|   Fight Club (1999)|       931.5|\n",
      "|Schindler's List ...|       929.5|\n",
      "|Jurassic Park (1993)|       892.5|\n",
      "+--------------------+------------+\n",
      "only showing top 10 rows\n",
      "\n",
      "+--------------------+------------+\n",
      "|               title|total_rating|\n",
      "+--------------------+------------+\n",
      "|  Legionnaire (1998)|         0.5|\n",
      "|       Sorrow (2015)|         0.5|\n",
      "|     Iron Man (1931)|         0.5|\n",
      "|Pokémon Heroes (2...|         0.5|\n",
      "|Gods of Egypt (2016)|         0.5|\n",
      "+--------------------+------------+\n",
      "only showing top 5 rows\n",
      "\n",
      "+--------------------+------------------+\n",
      "|               title|    avergae_rating|\n",
      "+--------------------+------------------+\n",
      "|       Psycho (1960)| 4.036144578313253|\n",
      "|Men in Black (a.k...| 3.487878787878788|\n",
      "|Gulliver's Travel...|               3.0|\n",
      "|Heavenly Creature...|3.9285714285714284|\n",
      "|    Elizabeth (1998)|3.6739130434782608|\n",
      "|Before Night Fall...|               4.3|\n",
      "|O Brother, Where ...|3.8085106382978724|\n",
      "|Snow White and th...| 3.616883116883117|\n",
      "| Three Wishes (1995)|               3.0|\n",
      "|When We Were King...|               3.9|\n",
      "|   Annie Hall (1977)|3.8706896551724137|\n",
      "| If Lucy Fell (1996)|               2.5|\n",
      "|First Blood (Ramb...|              3.55|\n",
      "|Don't Tell Mom th...|2.3461538461538463|\n",
      "| Nut Job, The (2014)| 4.333333333333333|\n",
      "|22 Jump Street (2...|3.6842105263157894|\n",
      "|   Deadpool 2 (2018)|             3.875|\n",
      "|Starship Troopers...|               1.5|\n",
      "|Voices from the L...|               4.3|\n",
      "|Night of the Livi...|              3.75|\n",
      "+--------------------+------------------+\n",
      "only showing top 20 rows\n",
      "\n",
      "+------+------------------+\n",
      "|Userid|    avergae_rating|\n",
      "+------+------------------+\n",
      "|   148|3.7395833333333335|\n",
      "|   463| 3.787878787878788|\n",
      "|   471|             3.875|\n",
      "|   496| 3.413793103448276|\n",
      "|   243| 4.138888888888889|\n",
      "|   392|               3.2|\n",
      "|   540|               4.0|\n",
      "|    31|              3.92|\n",
      "|   516|3.6923076923076925|\n",
      "|    85|3.7058823529411766|\n",
      "|   137| 3.978723404255319|\n",
      "|   251| 4.869565217391305|\n",
      "|   451|3.7941176470588234|\n",
      "|   580| 3.529816513761468|\n",
      "|    65| 4.029411764705882|\n",
      "|   458|4.1525423728813555|\n",
      "|    53|               5.0|\n",
      "|   255|2.5681818181818183|\n",
      "|   481| 2.806451612903226|\n",
      "|   588|              3.25|\n",
      "+------+------------------+\n",
      "only showing top 20 rows\n",
      "\n"
     ]
    }
   ],
   "source": [
    "from pyspark.sql.functions import col,sum,avg\n",
    "\n",
    "#Top 10 best performing\n",
    "df_joined.groupBy('title').agg(sum('Rating').alias('total_rating')).orderBy(col('total_rating').cast('float'), ascending=False).show(10)\n",
    "\n",
    "#5 worst performing\n",
    "df_joined.groupBy('title').agg(sum('Rating').alias('total_rating')).orderBy(col('total_rating').cast('float')).show(5)\n",
    "\n",
    "#Average rating of all movies\n",
    "df_joined.groupBy('title').agg(avg('Rating').alias('avergae_rating')).show()\n",
    "\n",
    "#Average rating of all users\n",
    "df_joined.groupBy('Userid').agg(avg('Rating').alias('avergae_rating')).show()"
   ]
  }
 ],
 "metadata": {
  "kernelspec": {
   "display_name": "Python 3",
   "language": "python",
   "name": "python3"
  },
  "language_info": {
   "codemirror_mode": {
    "name": "ipython",
    "version": 3
   },
   "file_extension": ".py",
   "mimetype": "text/x-python",
   "name": "python",
   "nbconvert_exporter": "python",
   "pygments_lexer": "ipython3",
   "version": "3.7.0"
  }
 },
 "nbformat": 4,
 "nbformat_minor": 2
}
