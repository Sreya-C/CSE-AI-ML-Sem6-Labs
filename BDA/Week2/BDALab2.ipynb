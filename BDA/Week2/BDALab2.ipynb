{
 "cells": [
  {
   "cell_type": "markdown",
   "metadata": {},
   "source": [
    " Q1. Implement a PySpark script that applies transformations like filter and withColumn on a dataFrame.\n",
    " \n",
    " Q2. Write a PySpark script that performs actions like count and show on a DataFrame.\n",
    " \n",
    " Q3. Demonstrate how to perform basic aggregations (e.g., sum, average) on a PySpark\n",
    "DataFrame.\n",
    "\n",
    "Q4. Show how to write a PySpark DataFrame to a CSV file."
   ]
  },
  {
   "cell_type": "code",
   "execution_count": 84,
   "metadata": {},
   "outputs": [
    {
     "name": "stdout",
     "output_type": "stream",
     "text": [
      "5\n",
      "+---+--------+\n",
      "| id|    name|\n",
      "+---+--------+\n",
      "|  1|   Alice|\n",
      "|  2|    Bill|\n",
      "|  3|   Cathy|\n",
      "|  4|Annabeth|\n",
      "|  5|  Athena|\n",
      "+---+--------+\n",
      "\n",
      "+---+--------+\n",
      "| id|    name|\n",
      "+---+--------+\n",
      "|  1|   Alice|\n",
      "|  4|Annabeth|\n",
      "|  5|  Athena|\n",
      "+---+--------+\n",
      "\n",
      "+---+--------+---+\n",
      "| id|    name|age|\n",
      "+---+--------+---+\n",
      "|  1|   Alice| 11|\n",
      "|  4|Annabeth| 14|\n",
      "|  5|  Athena| 15|\n",
      "+---+--------+---+\n",
      "\n",
      "+------------------+\n",
      "|       Average Age|\n",
      "+------------------+\n",
      "|13.333333333333334|\n",
      "+------------------+\n",
      "\n",
      "+-----------+\n",
      "|Sum of Ages|\n",
      "+-----------+\n",
      "|         40|\n",
      "+-----------+\n",
      "\n"
     ]
    }
   ],
   "source": [
    "import pyspark\n",
    "from pyspark.sql import SparkSession\n",
    "from pyspark.sql import functions as F\n",
    "\n",
    "spark = SparkSession.builder.getOrCreate()\n",
    "\n",
    "df = spark.createDataFrame([(1,\"Alice\"),(2,\"Bill\"),(3,\"Cathy\"),(4,\"Annabeth\"),(5,\"Athena\")],[\"id\",\"name\"])\n",
    "print(df.count())\n",
    "df.show()\n",
    "\n",
    "# Filter and withColumn\n",
    "df1 = df.filter(df[\"name\"].startswith(\"A\"))\n",
    "df1.show()\n",
    "\n",
    "df2 = df1.withColumn('age',df.id + 10)\n",
    "df2.show()\n",
    "\n",
    "# Aggregate Functions\n",
    "df2.agg(F.avg(df2['age']).alias(\"Average Age\")).show()\n",
    "df2.agg(F.sum(df2['age']).alias(\"Sum of Ages\")).show()   \n",
    "\n",
    "#Write to CSV\n",
    "df2.coalesce(3).write.mode('overwrite').csv('output.csv') #coelesce decides how many files the dataframe gets divided into"
   ]
  },
  {
   "cell_type": "markdown",
   "metadata": {},
   "source": [
    "Q5. Implement wordcount program in PySpark."
   ]
  },
  {
   "cell_type": "code",
   "execution_count": 83,
   "metadata": {},
   "outputs": [
    {
     "name": "stdout",
     "output_type": "stream",
     "text": [
      "DataFrame[value: string]\n",
      "+-------+-----+\n",
      "|   word|count|\n",
      "+-------+-----+\n",
      "| Python|    4|\n",
      "|    SQL|    3|\n",
      "|Pyspark|    3|\n",
      "|     ML|    2|\n",
      "+-------+-----+\n",
      "\n",
      "sample.txt MapPartitionsRDD[1153] at textFile at NativeMethodAccessorImpl.java:0\n",
      "SQL,3\n",
      "Python,4\n",
      "Pyspark,3\n",
      "ML,2\n"
     ]
    }
   ],
   "source": [
    "from pyspark.sql import SparkSession\n",
    "from pyspark.sql import functions as F\n",
    "from pyspark import SparkContext\n",
    "from pyspark import SparkConf\n",
    "\n",
    "#Using DataFrame\n",
    "spark = SparkSession.builder.getOrCreate()\n",
    "lines = spark.read.text(\"sample.txt\")\n",
    "words = lines.withColumn(\"word\",F.explode(F.split(F.col('value'),' '))).groupby('word').count().sort('count',ascending = False).show()\n",
    "\n",
    "#Using RDDs\n",
    "sc = SparkContext.getOrCreate(SparkConf().setMaster(\"local[*]\"))\n",
    "lines = sc.textFile(\"sample.txt\")\n",
    "counts = lines.flatMap(lambda line: line.split(\" \")).map(lambda word: (word,1)).reduceByKey(lambda x,y:x+y)\n",
    "\n",
    "output = counts.collect()\n",
    "\n",
    "for word,count in output:\n",
    "    print(\"%s,%i\"%(word,count))"
   ]
  },
  {
   "cell_type": "code",
   "execution_count": null,
   "metadata": {},
   "outputs": [],
   "source": [
    "\n"
   ]
  }
 ],
 "metadata": {
  "kernelspec": {
   "display_name": "Python 3",
   "language": "python",
   "name": "python3"
  },
  "language_info": {
   "codemirror_mode": {
    "name": "ipython",
    "version": 3
   },
   "file_extension": ".py",
   "mimetype": "text/x-python",
   "name": "python",
   "nbconvert_exporter": "python",
   "pygments_lexer": "ipython3",
   "version": "3.7.0"
  }
 },
 "nbformat": 4,
 "nbformat_minor": 2
}
